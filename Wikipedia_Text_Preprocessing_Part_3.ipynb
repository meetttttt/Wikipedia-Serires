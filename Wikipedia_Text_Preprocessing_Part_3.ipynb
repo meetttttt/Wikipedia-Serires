{
  "nbformat": 4,
  "nbformat_minor": 0,
  "metadata": {
    "colab": {
      "name": "Wikipedia Text Preprocessing Part-3",
      "provenance": [],
      "collapsed_sections": []
    },
    "kernelspec": {
      "name": "python3",
      "display_name": "Python 3"
    },
    "language_info": {
      "name": "python"
    }
  },
  "cells": [
    {
      "cell_type": "markdown",
      "source": [
        "# We will preprocessig the data for Topic Modelling \n",
        "\n",
        "\n",
        "---"
      ],
      "metadata": {
        "id": "NghglaxHfzpy"
      }
    },
    {
      "cell_type": "markdown",
      "source": [
        "![](https://www.iteratorshq.com/wp-content/uploads/2020/09/how_to_clean_data.jpg)"
      ],
      "metadata": {
        "id": "Pbah64flFAn1"
      }
    },
    {
      "cell_type": "markdown",
      "source": [
        "[Blog to read on Why Data Cleaning is Important](https://blog.nextpathway.com/5-reasons-why-data-cleaning-matters)"
      ],
      "metadata": {
        "id": "vVqzrNqlM4Na"
      }
    },
    {
      "cell_type": "markdown",
      "source": [
        "# Importing library need for Preprocessing and Loading data\n",
        "\n",
        "\n",
        "---\n",
        "\n"
      ],
      "metadata": {
        "id": "FtgMVDNX9RXz"
      }
    },
    {
      "cell_type": "code",
      "execution_count": null,
      "metadata": {
        "colab": {
          "base_uri": "https://localhost:8080/"
        },
        "id": "C90XlPBA9Eab",
        "outputId": "0fbfaf41-42b2-415b-ab0a-7885a08cc1eb"
      },
      "outputs": [
        {
          "output_type": "stream",
          "name": "stdout",
          "text": [
            "[nltk_data] Downloading package punkt to /root/nltk_data...\n",
            "[nltk_data]   Unzipping tokenizers/punkt.zip.\n",
            "[nltk_data] Downloading package stopwords to /root/nltk_data...\n",
            "[nltk_data]   Unzipping corpora/stopwords.zip.\n"
          ]
        },
        {
          "output_type": "execute_result",
          "data": {
            "text/plain": [
              "True"
            ]
          },
          "metadata": {},
          "execution_count": 1
        }
      ],
      "source": [
        "# Importing necessary libarary\n",
        "\n",
        "import re\n",
        "import pandas as pd\n",
        "import numpy as np\n",
        "import nltk\n",
        "from nltk.corpus import stopwords\n",
        "\n",
        "# Downloading tokenizer and stopwords list\n",
        "nltk.download('punkt')\n",
        "nltk.download('stopwords')"
      ]
    },
    {
      "cell_type": "markdown",
      "source": [
        "\n",
        "\n",
        "---\n",
        "\n",
        "# In this Part we will load our data and display its content\n",
        "- In case you need the data here is the [link you can download](https://drive.google.com/file/d/10kdA6QxOZD6poqJ_H-F5WtyNAnd-UUvG/view?usp=sharing) and then upload to the colab or even use your own data and upload it to colab.\n",
        "---\n",
        "\n"
      ],
      "metadata": {
        "id": "fZDVXno_4rQ6"
      }
    },
    {
      "cell_type": "code",
      "source": [
        "data_df=pd.read_csv(\"/content/drive/MyDrive/final_wikidata_scrapped_data_csv\")"
      ],
      "metadata": {
        "id": "qQ3AOeWs9QKc"
      },
      "execution_count": null,
      "outputs": []
    },
    {
      "cell_type": "code",
      "source": [
        "data_df.shape"
      ],
      "metadata": {
        "id": "BVW0aupw9Vtm",
        "colab": {
          "base_uri": "https://localhost:8080/"
        },
        "outputId": "52bae03b-7c1e-4470-c5a8-eb11f368e5ab"
      },
      "execution_count": null,
      "outputs": [
        {
          "output_type": "execute_result",
          "data": {
            "text/plain": [
              "(398, 4)"
            ]
          },
          "metadata": {},
          "execution_count": 3
        }
      ]
    },
    {
      "cell_type": "code",
      "source": [
        "data_df.columns"
      ],
      "metadata": {
        "id": "qjFNk2F04mYI",
        "colab": {
          "base_uri": "https://localhost:8080/"
        },
        "outputId": "1f8e2b67-5f2b-4c92-ccef-60417c2cd507"
      },
      "execution_count": null,
      "outputs": [
        {
          "output_type": "execute_result",
          "data": {
            "text/plain": [
              "Index(['title', 'content', 'url', 'links'], dtype='object')"
            ]
          },
          "metadata": {},
          "execution_count": 4
        }
      ]
    },
    {
      "cell_type": "code",
      "source": [
        "data_df"
      ],
      "metadata": {
        "id": "7G9Wu7dS2SuK",
        "colab": {
          "base_uri": "https://localhost:8080/",
          "height": 424
        },
        "outputId": "4f57563a-234d-4429-a717-5b316e2769cb"
      },
      "execution_count": null,
      "outputs": [
        {
          "output_type": "execute_result",
          "data": {
            "text/plain": [
              "                                    title  \\\n",
              "0                    Application security   \n",
              "1     Static application security testing   \n",
              "2                Web application firewall   \n",
              "3    Dynamic application security testing   \n",
              "4    Dynamic application security testing   \n",
              "..                                    ...   \n",
              "393                       Web application   \n",
              "394                                  Web3   \n",
              "395                           WS-Security   \n",
              "396                   Web hosting service   \n",
              "397              Trojan horse (computing)   \n",
              "\n",
              "                                               content  \\\n",
              "0    Application security (short AppSec) includes a...   \n",
              "1    Static application security testing (SAST) is ...   \n",
              "2    A web application firewall (WAF) is a specific...   \n",
              "3    A dynamic application security testing (DAST) ...   \n",
              "4    A dynamic application security testing (DAST) ...   \n",
              "..                                                 ...   \n",
              "393  A web application (or web app) is application ...   \n",
              "394  Web3 (also known as Web 3.0 and sometimes styl...   \n",
              "395  Web Services Security (WS-Security, WSS) is an...   \n",
              "396  A web hosting service is a type of Internet ho...   \n",
              "397  In computing, a Trojan horse  is any malware t...   \n",
              "\n",
              "                                                   url  \\\n",
              "0    https://en.wikipedia.org/wiki/Application_secu...   \n",
              "1    https://en.wikipedia.org/wiki/Static_applicati...   \n",
              "2    https://en.wikipedia.org/wiki/Web_application_...   \n",
              "3    https://en.wikipedia.org/wiki/Dynamic_applicat...   \n",
              "4    https://en.wikipedia.org/wiki/Dynamic_applicat...   \n",
              "..                                                 ...   \n",
              "393      https://en.wikipedia.org/wiki/Web_application   \n",
              "394                 https://en.wikipedia.org/wiki/Web3   \n",
              "395          https://en.wikipedia.org/wiki/WS-Security   \n",
              "396  https://en.wikipedia.org/wiki/Web_hosting_service   \n",
              "397  https://en.wikipedia.org/wiki/Trojan_horse_(co...   \n",
              "\n",
              "                                                 links  \n",
              "0    ['Access control', 'Advanced persistent threat...  \n",
              "1    ['Abstract syntax tree', 'Adobe Flash Player',...  \n",
              "2    ['Advanced persistent threat', 'Adware', 'Anom...  \n",
              "3    ['AJAX', 'Adobe Flash', 'Arbitrary code execut...  \n",
              "4    ['AJAX', 'Adobe Flash', 'Arbitrary code execut...  \n",
              "..                                                 ...  \n",
              "393  ['3D computer graphics', 'AJAX', 'API economy'...  \n",
              "394  ['Abra (company)', 'Airdrop (cryptocurrency)',...  \n",
              "395  ['Advanced Message Queuing Protocol', 'Apache ...  \n",
              "396  ['ASP.NET', 'Active Server Pages', 'Afilias', ...  \n",
              "397  ['2020 United States federal government data b...  \n",
              "\n",
              "[398 rows x 4 columns]"
            ],
            "text/html": [
              "\n",
              "  <div id=\"df-76a873e8-8a6d-42f0-8c90-66ce5580a756\">\n",
              "    <div class=\"colab-df-container\">\n",
              "      <div>\n",
              "<style scoped>\n",
              "    .dataframe tbody tr th:only-of-type {\n",
              "        vertical-align: middle;\n",
              "    }\n",
              "\n",
              "    .dataframe tbody tr th {\n",
              "        vertical-align: top;\n",
              "    }\n",
              "\n",
              "    .dataframe thead th {\n",
              "        text-align: right;\n",
              "    }\n",
              "</style>\n",
              "<table border=\"1\" class=\"dataframe\">\n",
              "  <thead>\n",
              "    <tr style=\"text-align: right;\">\n",
              "      <th></th>\n",
              "      <th>title</th>\n",
              "      <th>content</th>\n",
              "      <th>url</th>\n",
              "      <th>links</th>\n",
              "    </tr>\n",
              "  </thead>\n",
              "  <tbody>\n",
              "    <tr>\n",
              "      <th>0</th>\n",
              "      <td>Application security</td>\n",
              "      <td>Application security (short AppSec) includes a...</td>\n",
              "      <td>https://en.wikipedia.org/wiki/Application_secu...</td>\n",
              "      <td>['Access control', 'Advanced persistent threat...</td>\n",
              "    </tr>\n",
              "    <tr>\n",
              "      <th>1</th>\n",
              "      <td>Static application security testing</td>\n",
              "      <td>Static application security testing (SAST) is ...</td>\n",
              "      <td>https://en.wikipedia.org/wiki/Static_applicati...</td>\n",
              "      <td>['Abstract syntax tree', 'Adobe Flash Player',...</td>\n",
              "    </tr>\n",
              "    <tr>\n",
              "      <th>2</th>\n",
              "      <td>Web application firewall</td>\n",
              "      <td>A web application firewall (WAF) is a specific...</td>\n",
              "      <td>https://en.wikipedia.org/wiki/Web_application_...</td>\n",
              "      <td>['Advanced persistent threat', 'Adware', 'Anom...</td>\n",
              "    </tr>\n",
              "    <tr>\n",
              "      <th>3</th>\n",
              "      <td>Dynamic application security testing</td>\n",
              "      <td>A dynamic application security testing (DAST) ...</td>\n",
              "      <td>https://en.wikipedia.org/wiki/Dynamic_applicat...</td>\n",
              "      <td>['AJAX', 'Adobe Flash', 'Arbitrary code execut...</td>\n",
              "    </tr>\n",
              "    <tr>\n",
              "      <th>4</th>\n",
              "      <td>Dynamic application security testing</td>\n",
              "      <td>A dynamic application security testing (DAST) ...</td>\n",
              "      <td>https://en.wikipedia.org/wiki/Dynamic_applicat...</td>\n",
              "      <td>['AJAX', 'Adobe Flash', 'Arbitrary code execut...</td>\n",
              "    </tr>\n",
              "    <tr>\n",
              "      <th>...</th>\n",
              "      <td>...</td>\n",
              "      <td>...</td>\n",
              "      <td>...</td>\n",
              "      <td>...</td>\n",
              "    </tr>\n",
              "    <tr>\n",
              "      <th>393</th>\n",
              "      <td>Web application</td>\n",
              "      <td>A web application (or web app) is application ...</td>\n",
              "      <td>https://en.wikipedia.org/wiki/Web_application</td>\n",
              "      <td>['3D computer graphics', 'AJAX', 'API economy'...</td>\n",
              "    </tr>\n",
              "    <tr>\n",
              "      <th>394</th>\n",
              "      <td>Web3</td>\n",
              "      <td>Web3 (also known as Web 3.0 and sometimes styl...</td>\n",
              "      <td>https://en.wikipedia.org/wiki/Web3</td>\n",
              "      <td>['Abra (company)', 'Airdrop (cryptocurrency)',...</td>\n",
              "    </tr>\n",
              "    <tr>\n",
              "      <th>395</th>\n",
              "      <td>WS-Security</td>\n",
              "      <td>Web Services Security (WS-Security, WSS) is an...</td>\n",
              "      <td>https://en.wikipedia.org/wiki/WS-Security</td>\n",
              "      <td>['Advanced Message Queuing Protocol', 'Apache ...</td>\n",
              "    </tr>\n",
              "    <tr>\n",
              "      <th>396</th>\n",
              "      <td>Web hosting service</td>\n",
              "      <td>A web hosting service is a type of Internet ho...</td>\n",
              "      <td>https://en.wikipedia.org/wiki/Web_hosting_service</td>\n",
              "      <td>['ASP.NET', 'Active Server Pages', 'Afilias', ...</td>\n",
              "    </tr>\n",
              "    <tr>\n",
              "      <th>397</th>\n",
              "      <td>Trojan horse (computing)</td>\n",
              "      <td>In computing, a Trojan horse  is any malware t...</td>\n",
              "      <td>https://en.wikipedia.org/wiki/Trojan_horse_(co...</td>\n",
              "      <td>['2020 United States federal government data b...</td>\n",
              "    </tr>\n",
              "  </tbody>\n",
              "</table>\n",
              "<p>398 rows × 4 columns</p>\n",
              "</div>\n",
              "      <button class=\"colab-df-convert\" onclick=\"convertToInteractive('df-76a873e8-8a6d-42f0-8c90-66ce5580a756')\"\n",
              "              title=\"Convert this dataframe to an interactive table.\"\n",
              "              style=\"display:none;\">\n",
              "        \n",
              "  <svg xmlns=\"http://www.w3.org/2000/svg\" height=\"24px\"viewBox=\"0 0 24 24\"\n",
              "       width=\"24px\">\n",
              "    <path d=\"M0 0h24v24H0V0z\" fill=\"none\"/>\n",
              "    <path d=\"M18.56 5.44l.94 2.06.94-2.06 2.06-.94-2.06-.94-.94-2.06-.94 2.06-2.06.94zm-11 1L8.5 8.5l.94-2.06 2.06-.94-2.06-.94L8.5 2.5l-.94 2.06-2.06.94zm10 10l.94 2.06.94-2.06 2.06-.94-2.06-.94-.94-2.06-.94 2.06-2.06.94z\"/><path d=\"M17.41 7.96l-1.37-1.37c-.4-.4-.92-.59-1.43-.59-.52 0-1.04.2-1.43.59L10.3 9.45l-7.72 7.72c-.78.78-.78 2.05 0 2.83L4 21.41c.39.39.9.59 1.41.59.51 0 1.02-.2 1.41-.59l7.78-7.78 2.81-2.81c.8-.78.8-2.07 0-2.86zM5.41 20L4 18.59l7.72-7.72 1.47 1.35L5.41 20z\"/>\n",
              "  </svg>\n",
              "      </button>\n",
              "      \n",
              "  <style>\n",
              "    .colab-df-container {\n",
              "      display:flex;\n",
              "      flex-wrap:wrap;\n",
              "      gap: 12px;\n",
              "    }\n",
              "\n",
              "    .colab-df-convert {\n",
              "      background-color: #E8F0FE;\n",
              "      border: none;\n",
              "      border-radius: 50%;\n",
              "      cursor: pointer;\n",
              "      display: none;\n",
              "      fill: #1967D2;\n",
              "      height: 32px;\n",
              "      padding: 0 0 0 0;\n",
              "      width: 32px;\n",
              "    }\n",
              "\n",
              "    .colab-df-convert:hover {\n",
              "      background-color: #E2EBFA;\n",
              "      box-shadow: 0px 1px 2px rgba(60, 64, 67, 0.3), 0px 1px 3px 1px rgba(60, 64, 67, 0.15);\n",
              "      fill: #174EA6;\n",
              "    }\n",
              "\n",
              "    [theme=dark] .colab-df-convert {\n",
              "      background-color: #3B4455;\n",
              "      fill: #D2E3FC;\n",
              "    }\n",
              "\n",
              "    [theme=dark] .colab-df-convert:hover {\n",
              "      background-color: #434B5C;\n",
              "      box-shadow: 0px 1px 3px 1px rgba(0, 0, 0, 0.15);\n",
              "      filter: drop-shadow(0px 1px 2px rgba(0, 0, 0, 0.3));\n",
              "      fill: #FFFFFF;\n",
              "    }\n",
              "  </style>\n",
              "\n",
              "      <script>\n",
              "        const buttonEl =\n",
              "          document.querySelector('#df-76a873e8-8a6d-42f0-8c90-66ce5580a756 button.colab-df-convert');\n",
              "        buttonEl.style.display =\n",
              "          google.colab.kernel.accessAllowed ? 'block' : 'none';\n",
              "\n",
              "        async function convertToInteractive(key) {\n",
              "          const element = document.querySelector('#df-76a873e8-8a6d-42f0-8c90-66ce5580a756');\n",
              "          const dataTable =\n",
              "            await google.colab.kernel.invokeFunction('convertToInteractive',\n",
              "                                                     [key], {});\n",
              "          if (!dataTable) return;\n",
              "\n",
              "          const docLinkHtml = 'Like what you see? Visit the ' +\n",
              "            '<a target=\"_blank\" href=https://colab.research.google.com/notebooks/data_table.ipynb>data table notebook</a>'\n",
              "            + ' to learn more about interactive tables.';\n",
              "          element.innerHTML = '';\n",
              "          dataTable['output_type'] = 'display_data';\n",
              "          await google.colab.output.renderOutput(dataTable, element);\n",
              "          const docLink = document.createElement('div');\n",
              "          docLink.innerHTML = docLinkHtml;\n",
              "          element.appendChild(docLink);\n",
              "        }\n",
              "      </script>\n",
              "    </div>\n",
              "  </div>\n",
              "  "
            ]
          },
          "metadata": {},
          "execution_count": 5
        }
      ]
    },
    {
      "cell_type": "code",
      "source": [
        "data_df.isnull().sum()"
      ],
      "metadata": {
        "id": "7DCf5YKJ4lA9",
        "colab": {
          "base_uri": "https://localhost:8080/"
        },
        "outputId": "e9592245-ec89-4550-c228-a0681c2cd5c3"
      },
      "execution_count": null,
      "outputs": [
        {
          "output_type": "execute_result",
          "data": {
            "text/plain": [
              "title      0\n",
              "content    0\n",
              "url        0\n",
              "links      0\n",
              "dtype: int64"
            ]
          },
          "metadata": {},
          "execution_count": 6
        }
      ]
    },
    {
      "cell_type": "code",
      "source": [
        "# data_df.columns"
      ],
      "metadata": {
        "id": "j8ueblKT5G1C",
        "colab": {
          "base_uri": "https://localhost:8080/"
        },
        "outputId": "17474fce-2968-4c68-f3a8-266dc3b0bbf4"
      },
      "execution_count": null,
      "outputs": [
        {
          "output_type": "execute_result",
          "data": {
            "text/plain": [
              "Index(['title', 'content', 'url', 'links'], dtype='object')"
            ]
          },
          "metadata": {},
          "execution_count": 7
        }
      ]
    },
    {
      "cell_type": "code",
      "source": [
        "data_df.content"
      ],
      "metadata": {
        "id": "CFrzoTN1_UYZ",
        "colab": {
          "base_uri": "https://localhost:8080/"
        },
        "outputId": "8f996731-e1ad-47ec-f9ce-115b519cd6b4"
      },
      "execution_count": null,
      "outputs": [
        {
          "output_type": "execute_result",
          "data": {
            "text/plain": [
              "0      Application security (short AppSec) includes a...\n",
              "1      Static application security testing (SAST) is ...\n",
              "2      A web application firewall (WAF) is a specific...\n",
              "3      A dynamic application security testing (DAST) ...\n",
              "4      A dynamic application security testing (DAST) ...\n",
              "                             ...                        \n",
              "393    A web application (or web app) is application ...\n",
              "394    Web3 (also known as Web 3.0 and sometimes styl...\n",
              "395    Web Services Security (WS-Security, WSS) is an...\n",
              "396    A web hosting service is a type of Internet ho...\n",
              "397    In computing, a Trojan horse  is any malware t...\n",
              "Name: content, Length: 398, dtype: object"
            ]
          },
          "metadata": {},
          "execution_count": 8
        }
      ]
    },
    {
      "cell_type": "code",
      "source": [
        "data_df.title.value_counts()"
      ],
      "metadata": {
        "id": "q1T7VvmPHaNJ",
        "colab": {
          "base_uri": "https://localhost:8080/"
        },
        "outputId": "9e92720c-2c9f-4c43-e213-e69e4350b00d"
      },
      "execution_count": null,
      "outputs": [
        {
          "output_type": "execute_result",
          "data": {
            "text/plain": [
              "Computer security                            8\n",
              "McAfee                                       5\n",
              "Public-key cryptography                      4\n",
              "Internet security                            4\n",
              "Directorate-General for External Security    4\n",
              "                                            ..\n",
              "ESET                                         1\n",
              "Comodo Internet Security                     1\n",
              "Symantec Endpoint Protection                 1\n",
              "Personal data                                1\n",
              "Trojan horse (computing)                     1\n",
              "Name: title, Length: 335, dtype: int64"
            ]
          },
          "metadata": {},
          "execution_count": 9
        }
      ]
    },
    {
      "cell_type": "markdown",
      "source": [
        "\n",
        "\n",
        "---\n",
        "\n",
        "# Now we will start with Preprocessing steps.\n",
        "- Note that we will only take the content part of the data .i.e. we will only preprocess the data that in text, only that data that we preprocess is the text data other data like urls links are not relevant to us while Topic Modelling\n",
        "\n",
        "---\n",
        "\n",
        "\n"
      ],
      "metadata": {
        "id": "4-IJz1zWGmZa"
      }
    },
    {
      "cell_type": "code",
      "source": [
        "data=data_df.content"
      ],
      "metadata": {
        "id": "I8Z_SGEy_W3X"
      },
      "execution_count": null,
      "outputs": []
    },
    {
      "cell_type": "code",
      "source": [
        "data.shape"
      ],
      "metadata": {
        "id": "DD5EQoXCHmru",
        "colab": {
          "base_uri": "https://localhost:8080/"
        },
        "outputId": "ba6fcaee-4a0f-4da7-85ac-654f94ba7930"
      },
      "execution_count": null,
      "outputs": [
        {
          "output_type": "execute_result",
          "data": {
            "text/plain": [
              "(398,)"
            ]
          },
          "metadata": {},
          "execution_count": 11
        }
      ]
    },
    {
      "cell_type": "code",
      "source": [
        "data"
      ],
      "metadata": {
        "id": "xcT2YOwuHotG",
        "colab": {
          "base_uri": "https://localhost:8080/"
        },
        "outputId": "7efb98d8-f84e-44d4-de07-2ff5cc5d7563"
      },
      "execution_count": null,
      "outputs": [
        {
          "output_type": "execute_result",
          "data": {
            "text/plain": [
              "0      Application security (short AppSec) includes a...\n",
              "1      Static application security testing (SAST) is ...\n",
              "2      A web application firewall (WAF) is a specific...\n",
              "3      A dynamic application security testing (DAST) ...\n",
              "4      A dynamic application security testing (DAST) ...\n",
              "                             ...                        \n",
              "393    A web application (or web app) is application ...\n",
              "394    Web3 (also known as Web 3.0 and sometimes styl...\n",
              "395    Web Services Security (WS-Security, WSS) is an...\n",
              "396    A web hosting service is a type of Internet ho...\n",
              "397    In computing, a Trojan horse  is any malware t...\n",
              "Name: content, Length: 398, dtype: object"
            ]
          },
          "metadata": {},
          "execution_count": 12
        }
      ]
    },
    {
      "cell_type": "markdown",
      "source": [
        "# Step1: Converting the data to str format so we can carry our work effectively"
      ],
      "metadata": {
        "id": "Q9yubv1_IWu6"
      }
    },
    {
      "cell_type": "code",
      "source": [
        "data = data.astype(str)"
      ],
      "metadata": {
        "id": "lBEbGvL6Hp6_"
      },
      "execution_count": null,
      "outputs": []
    },
    {
      "cell_type": "code",
      "source": [
        "# checking if the datatype of the our dataframe is string datatype\n",
        "type(data[0])"
      ],
      "metadata": {
        "id": "JHe7_CNDHsTO",
        "colab": {
          "base_uri": "https://localhost:8080/"
        },
        "outputId": "4af8781e-d565-40a3-8666-119990b31eaa"
      },
      "execution_count": null,
      "outputs": [
        {
          "output_type": "execute_result",
          "data": {
            "text/plain": [
              "str"
            ]
          },
          "metadata": {},
          "execution_count": 14
        }
      ]
    },
    {
      "cell_type": "markdown",
      "source": [
        "# Step 2: Converting the text to lower character"
      ],
      "metadata": {
        "id": "_bfzoPsmIazH"
      }
    },
    {
      "cell_type": "code",
      "source": [
        "data = data.str.lower()\n",
        "data"
      ],
      "metadata": {
        "id": "8-N396hyH92j",
        "colab": {
          "base_uri": "https://localhost:8080/"
        },
        "outputId": "abb442d4-5f9e-4199-827b-e6efc26ec13b"
      },
      "execution_count": null,
      "outputs": [
        {
          "output_type": "execute_result",
          "data": {
            "text/plain": [
              "0      application security (short appsec) includes a...\n",
              "1      static application security testing (sast) is ...\n",
              "2      a web application firewall (waf) is a specific...\n",
              "3      a dynamic application security testing (dast) ...\n",
              "4      a dynamic application security testing (dast) ...\n",
              "                             ...                        \n",
              "393    a web application (or web app) is application ...\n",
              "394    web3 (also known as web 3.0 and sometimes styl...\n",
              "395    web services security (ws-security, wss) is an...\n",
              "396    a web hosting service is a type of internet ho...\n",
              "397    in computing, a trojan horse  is any malware t...\n",
              "Name: content, Length: 398, dtype: object"
            ]
          },
          "metadata": {},
          "execution_count": 15
        }
      ]
    },
    {
      "cell_type": "markdown",
      "source": [
        "# Step 3: Here we create a function to remove all the punctuation from the text to clean the corpus"
      ],
      "metadata": {
        "id": "ZX3qP67VIhDC"
      }
    },
    {
      "cell_type": "code",
      "source": [
        "PUNCT_TO_REMOVE = \"\"\"!\"'()*+,-/:;<=>?[\\]_`{|}~\"\"\"\n",
        "def remove_punctuation(text):\n",
        "    \"\"\"custom function to remove the punctuation\"\"\"\n",
        "    return text.translate(str.maketrans('', '', PUNCT_TO_REMOVE))\n",
        "\n",
        "data=data.apply(lambda text: remove_punctuation(text))"
      ],
      "metadata": {
        "id": "XFEG3ToYIQLV"
      },
      "execution_count": null,
      "outputs": []
    },
    {
      "cell_type": "code",
      "source": [
        "data"
      ],
      "metadata": {
        "id": "gSKA2zDuIivl",
        "colab": {
          "base_uri": "https://localhost:8080/"
        },
        "outputId": "0eb8c244-fbaf-4b63-a8ff-9e4d1f87e42c"
      },
      "execution_count": null,
      "outputs": [
        {
          "output_type": "execute_result",
          "data": {
            "text/plain": [
              "0      application security short appsec includes all...\n",
              "1      static application security testing sast is us...\n",
              "2      a web application firewall waf is a specific f...\n",
              "3      a dynamic application security testing dast is...\n",
              "4      a dynamic application security testing dast is...\n",
              "                             ...                        \n",
              "393    a web application or web app is application so...\n",
              "394    web3 also known as web 3.0 and sometimes styli...\n",
              "395    web services security wssecurity wss is an ext...\n",
              "396    a web hosting service is a type of internet ho...\n",
              "397    in computing a trojan horse  is any malware th...\n",
              "Name: content, Length: 398, dtype: object"
            ]
          },
          "metadata": {},
          "execution_count": 17
        }
      ]
    },
    {
      "cell_type": "markdown",
      "source": [
        "- We also need to remove the special character from the text corpus"
      ],
      "metadata": {
        "id": "lSz5-TYdNlZC"
      }
    },
    {
      "cell_type": "code",
      "source": [
        "PUNCT_TO_REMOVE = \"!@#$^%&\\n\\t\"\n",
        "def remove_punctuation(text):\n",
        "    \"\"\"custom function to remove the punctuation\"\"\"\n",
        "    return text.translate(str.maketrans('', '', PUNCT_TO_REMOVE))\n",
        "\n",
        "data = data.apply(lambda text: remove_punctuation(text))"
      ],
      "metadata": {
        "id": "_RjanQqCKVaO"
      },
      "execution_count": null,
      "outputs": []
    },
    {
      "cell_type": "code",
      "source": [
        "data"
      ],
      "metadata": {
        "id": "ig9jerDrN0gB",
        "colab": {
          "base_uri": "https://localhost:8080/"
        },
        "outputId": "cd143669-c911-47c7-81a9-68f11e52df22"
      },
      "execution_count": null,
      "outputs": [
        {
          "output_type": "execute_result",
          "data": {
            "text/plain": [
              "0      application security short appsec includes all...\n",
              "1      static application security testing sast is us...\n",
              "2      a web application firewall waf is a specific f...\n",
              "3      a dynamic application security testing dast is...\n",
              "4      a dynamic application security testing dast is...\n",
              "                             ...                        \n",
              "393    a web application or web app is application so...\n",
              "394    web3 also known as web 3.0 and sometimes styli...\n",
              "395    web services security wssecurity wss is an ext...\n",
              "396    a web hosting service is a type of internet ho...\n",
              "397    in computing a trojan horse  is any malware th...\n",
              "Name: content, Length: 398, dtype: object"
            ]
          },
          "metadata": {},
          "execution_count": 19
        }
      ]
    },
    {
      "cell_type": "markdown",
      "source": [
        "# Step 4 : Now we will move on to remove the stop words from the corpus \n",
        "\n",
        "- This step is kind of optional.\n",
        "- It depends upon what task are you performing.\n",
        "- Since we are performing the topic modelling we need not to remove the stop words.\n",
        "- We can remove the stop words if we need to, its not necessary. Since the topic modelling mainly focus on the structure of the words its better not to remove it.\n"
      ],
      "metadata": {
        "id": "fSo41ikOJK25"
      }
    },
    {
      "cell_type": "code",
      "source": [
        "# # This code will create a function that will remove the stop words from our corpus from the list of the Stopwords\n",
        "\n",
        "STOPWORDS = set(stopwords.words('english'))\n",
        "# def remove_stopwords(text):\n",
        "#     \"\"\"custom function to remove the stopwords\"\"\"\n",
        "#     return \" \".join([word for word in str(text).split() if word not in STOPWORDS])\n",
        "\n",
        "# data=data.apply(lambda text: remove_stopwords(text))"
      ],
      "metadata": {
        "id": "kLJ4o_mkIvnj"
      },
      "execution_count": null,
      "outputs": []
    },
    {
      "cell_type": "code",
      "source": [
        "len(STOPWORDS)"
      ],
      "metadata": {
        "colab": {
          "base_uri": "https://localhost:8080/"
        },
        "id": "Mz8E_UN8Yv6q",
        "outputId": "863d9503-2af1-4680-a7bc-33a96bdd7e02"
      },
      "execution_count": null,
      "outputs": [
        {
          "output_type": "execute_result",
          "data": {
            "text/plain": [
              "179"
            ]
          },
          "metadata": {},
          "execution_count": 35
        }
      ]
    },
    {
      "cell_type": "markdown",
      "source": [
        "# Step 5: We can also tokenize the text using nltk (optional)"
      ],
      "metadata": {
        "id": "GHkqI-l9PxCj"
      }
    },
    {
      "cell_type": "code",
      "source": [
        "# This step is again optional since we are going to perform topic modelling we dont need to tokenize\n",
        "\n",
        "# l=[]\n",
        "# for i in range(len(data)):\n",
        "#   data[i] = nltk.sent_tokenize(data[i])\n",
        "#   l.append(data[i])"
      ],
      "metadata": {
        "id": "JsWcHwduPl3B"
      },
      "execution_count": null,
      "outputs": []
    },
    {
      "cell_type": "markdown",
      "source": [
        "# Step 6: Removing the Emoji from our corpus (optional)"
      ],
      "metadata": {
        "id": "Vd0E_9eHQuxt"
      }
    },
    {
      "cell_type": "code",
      "source": [
        "def remove_emoji(string):\n",
        "    emoji_pattern = re.compile(\"[\"\n",
        "                           u\"\\U0001F600-\\U0001F64F\"  # emoticons\n",
        "                           u\"\\U0001F300-\\U0001F5FF\"  # symbols & pictographs\n",
        "                           u\"\\U0001F680-\\U0001F6FF\"  # transport & map symbols\n",
        "                           u\"\\U0001F1E0-\\U0001F1FF\"  # flags (iOS)\n",
        "                           u\"\\U00002702-\\U000027B0\"\n",
        "                           u\"\\U000024C2-\\U0001F251\"\n",
        "                           \"]+\", flags=re.UNICODE)\n",
        "    return emoji_pattern.sub(r'', string)\n",
        "\n",
        "remove_emoji(\"game is on 🔥🔥\")"
      ],
      "metadata": {
        "id": "NiH866JfQR9R",
        "colab": {
          "base_uri": "https://localhost:8080/",
          "height": 36
        },
        "outputId": "005e624c-093e-43cc-ac7f-59f8b1840bb1"
      },
      "execution_count": null,
      "outputs": [
        {
          "output_type": "execute_result",
          "data": {
            "text/plain": [
              "'game is on '"
            ],
            "application/vnd.google.colaboratory.intrinsic+json": {
              "type": "string"
            }
          },
          "metadata": {},
          "execution_count": 22
        }
      ]
    },
    {
      "cell_type": "code",
      "source": [
        "remove_emoji(\"Hilarious😂\")"
      ],
      "metadata": {
        "id": "1yuhWbUqQr09",
        "colab": {
          "base_uri": "https://localhost:8080/",
          "height": 36
        },
        "outputId": "d771b230-c36b-41d5-eb68-94127b6a1d2e"
      },
      "execution_count": null,
      "outputs": [
        {
          "output_type": "execute_result",
          "data": {
            "text/plain": [
              "'Hilarious'"
            ],
            "application/vnd.google.colaboratory.intrinsic+json": {
              "type": "string"
            }
          },
          "metadata": {},
          "execution_count": 23
        }
      ]
    },
    {
      "cell_type": "markdown",
      "source": [
        "# Step 7: Removal of URLs (Optional)\n",
        "- Next preprocessing step is to remove any URLs present in the Corpus.\n",
        "- Sometimes it happen that our corpus has some URL in  it. \n",
        "- Probably we might need to remove them for our further analysis."
      ],
      "metadata": {
        "id": "9GcB_zzKSccz"
      }
    },
    {
      "cell_type": "code",
      "source": [
        "def remove_urls(text):\n",
        "    url_pattern = re.compile(r'https?://\\S+|www\\.\\S+')\n",
        "    return url_pattern.sub(r'', text)"
      ],
      "metadata": {
        "id": "tuRGIABIRHyg"
      },
      "execution_count": null,
      "outputs": []
    },
    {
      "cell_type": "code",
      "source": [
        "text = \"Driverless AI NLP blog post on https://www.h2o.ai/blog/detecting-sarcasm-is-difficult-but-ai-may-have-an-answer/\"\n",
        "remove_urls(text)"
      ],
      "metadata": {
        "id": "mLn4xGpMSjB2",
        "colab": {
          "base_uri": "https://localhost:8080/",
          "height": 36
        },
        "outputId": "a1981812-959b-4e7a-f55a-f7338bab9bc0"
      },
      "execution_count": null,
      "outputs": [
        {
          "output_type": "execute_result",
          "data": {
            "text/plain": [
              "'Driverless AI NLP blog post on '"
            ],
            "application/vnd.google.colaboratory.intrinsic+json": {
              "type": "string"
            }
          },
          "metadata": {},
          "execution_count": 25
        }
      ]
    },
    {
      "cell_type": "code",
      "source": [
        "text = \"Please refer to link http://lnkd.in/ecnt5yC for the paper\"\n",
        "remove_urls(text)"
      ],
      "metadata": {
        "id": "gUVT5HPTSl1h",
        "colab": {
          "base_uri": "https://localhost:8080/",
          "height": 36
        },
        "outputId": "1b6395f5-ec33-4f73-e868-bd57b0898d29"
      },
      "execution_count": null,
      "outputs": [
        {
          "output_type": "execute_result",
          "data": {
            "text/plain": [
              "'Please refer to link  for the paper'"
            ],
            "application/vnd.google.colaboratory.intrinsic+json": {
              "type": "string"
            }
          },
          "metadata": {},
          "execution_count": 26
        }
      ]
    },
    {
      "cell_type": "code",
      "source": [
        "# Suppose say there is no http or https in the url link. The function can now captures that as well.\n",
        "text = \"Want to know more. Checkout www.h2o.ai for additional information\"\n",
        "remove_urls(text)"
      ],
      "metadata": {
        "id": "xocc5u6-SqLw",
        "colab": {
          "base_uri": "https://localhost:8080/",
          "height": 36
        },
        "outputId": "8f135ca7-e8f0-42e1-bfde-913e24eabadd"
      },
      "execution_count": null,
      "outputs": [
        {
          "output_type": "execute_result",
          "data": {
            "text/plain": [
              "'Want to know more. Checkout  for additional information'"
            ],
            "application/vnd.google.colaboratory.intrinsic+json": {
              "type": "string"
            }
          },
          "metadata": {},
          "execution_count": 27
        }
      ]
    },
    {
      "cell_type": "markdown",
      "source": [
        "# Step 8:Remove html tags (optional)"
      ],
      "metadata": {
        "id": "xVxyK-SITgyH"
      }
    },
    {
      "cell_type": "code",
      "source": [
        "def remove_html(text):\n",
        "    html_pattern = re.compile('<.*?>')\n",
        "    return html_pattern.sub(r'', text)\n",
        "\n",
        "text = \"\"\"<div>\n",
        "<h1> H2O</h1>\n",
        "<p> AutoML</p>\n",
        "<a href=\"https://www.h2o.ai/products/h2o-driverless-ai/\"> Driverless AI</a>\n",
        "</div>\"\"\"\n",
        "\n",
        "print(remove_html(text))"
      ],
      "metadata": {
        "id": "b3Uv9Sy4SwnC",
        "colab": {
          "base_uri": "https://localhost:8080/"
        },
        "outputId": "638821a0-ae5a-4495-a8a0-dfa12b59eb09"
      },
      "execution_count": null,
      "outputs": [
        {
          "output_type": "stream",
          "name": "stdout",
          "text": [
            "\n",
            " H2O\n",
            " AutoML\n",
            " Driverless AI\n",
            "\n"
          ]
        }
      ]
    },
    {
      "cell_type": "markdown",
      "source": [
        "# Saving the Processed Data into new csv file using pandas"
      ],
      "metadata": {
        "id": "wlLtBCcNZYmw"
      }
    },
    {
      "cell_type": "code",
      "source": [
        "# checking the datatype of our data\n",
        "type(data)"
      ],
      "metadata": {
        "id": "Q4kY-7KNXATk",
        "colab": {
          "base_uri": "https://localhost:8080/"
        },
        "outputId": "112c6262-7b32-49c5-939c-9a1167dab4a7"
      },
      "execution_count": null,
      "outputs": [
        {
          "output_type": "execute_result",
          "data": {
            "text/plain": [
              "pandas.core.series.Series"
            ]
          },
          "metadata": {},
          "execution_count": 29
        }
      ]
    },
    {
      "cell_type": "code",
      "source": [
        "# converting from series to dataframe\n",
        "final_data = pd.DataFrame(data)"
      ],
      "metadata": {
        "id": "YmOkDoVJXFA8"
      },
      "execution_count": null,
      "outputs": []
    },
    {
      "cell_type": "code",
      "source": [
        "# Checking the final data datatype\n",
        "type(final_data)"
      ],
      "metadata": {
        "id": "Cj4IHGIrY_Lv",
        "colab": {
          "base_uri": "https://localhost:8080/"
        },
        "outputId": "98b49ca0-f863-4ada-c021-6b6479a758c7"
      },
      "execution_count": null,
      "outputs": [
        {
          "output_type": "execute_result",
          "data": {
            "text/plain": [
              "pandas.core.frame.DataFrame"
            ]
          },
          "metadata": {},
          "execution_count": 31
        }
      ]
    },
    {
      "cell_type": "code",
      "source": [
        "# Saving the preprocessed data into csv file format usig .to_csv() method\n",
        "final_data.to_csv(index=False)\n",
        "print(\"Done!!!\")"
      ],
      "metadata": {
        "id": "7xqzZV05ZBzJ",
        "colab": {
          "base_uri": "https://localhost:8080/"
        },
        "outputId": "4c4e62cb-3772-4cc5-b56c-569d90db54c0"
      },
      "execution_count": null,
      "outputs": [
        {
          "output_type": "stream",
          "name": "stdout",
          "text": [
            "Done!!!\n"
          ]
        }
      ]
    },
    {
      "cell_type": "markdown",
      "source": [
        "![](https://c.tenor.com/I6bSd_xNoc0AAAAM/hooray-its-weekend.gif)"
      ],
      "metadata": {
        "id": "9yR_dbo47lBY"
      }
    }
  ]
}