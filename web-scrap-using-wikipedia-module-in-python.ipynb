{
 "cells": [
  {
   "cell_type": "markdown",
   "id": "1c081627",
   "metadata": {
    "papermill": {
     "duration": 0.02767,
     "end_time": "2022-03-14T06:25:44.195188",
     "exception": false,
     "start_time": "2022-03-14T06:25:44.167518",
     "status": "completed"
    },
    "tags": []
   },
   "source": [
    "# Scraping data from Wikipedia using Wikipedia library"
   ]
  },
  {
   "cell_type": "markdown",
   "id": "12b64df6",
   "metadata": {
    "papermill": {
     "duration": 0.026093,
     "end_time": "2022-03-14T06:25:44.248165",
     "exception": false,
     "start_time": "2022-03-14T06:25:44.222072",
     "status": "completed"
    },
    "tags": []
   },
   "source": [
    "![](https://www.webharvy.com/images/web%20scraping.png)"
   ]
  },
  {
   "cell_type": "markdown",
   "id": "136e93e6",
   "metadata": {
    "papermill": {
     "duration": 0.026902,
     "end_time": "2022-03-14T06:25:44.302196",
     "exception": false,
     "start_time": "2022-03-14T06:25:44.275294",
     "status": "completed"
    },
    "tags": []
   },
   "source": [
    "# Why to use Web Scraping ?\n",
    "> Suppose you want some information from a website? Let’s say a paragraph on Donald Trump!<br>\n",
    "> What do you do? Well, you can copy and paste the information from Wikipedia to your own file.<br>\n",
    "> But what if you want to get large amounts of information from a website as quickly as possible?<br>\n",
    "> Such as large amounts of data from a website to train a Machine Learning algorithm? <br>\n",
    "> In such a situation, copying and pasting will not work! And that’s when you’ll need to use Web Scraping. <br>\n",
    "> Unlike the long and mind-numbing process of manually getting data, Web scraping uses intelligence automation methods to get thousands or even millions of data sets in a smaller amount of time. <br>\n",
    "> So let’s understand what Web scraping is in detail and how to use it to obtain data from other websites.<br>"
   ]
  },
  {
   "cell_type": "markdown",
   "id": "75d4546c",
   "metadata": {
    "papermill": {
     "duration": 0.025861,
     "end_time": "2022-03-14T06:25:44.354985",
     "exception": false,
     "start_time": "2022-03-14T06:25:44.329124",
     "status": "completed"
    },
    "tags": []
   },
   "source": [
    "![](https://roboticsandautomationnews.com/wp-content/uploads/2020/04/web-scraping-2.png)"
   ]
  },
  {
   "cell_type": "markdown",
   "id": "0c6755ca",
   "metadata": {
    "papermill": {
     "duration": 0.025772,
     "end_time": "2022-03-14T06:25:44.407181",
     "exception": false,
     "start_time": "2022-03-14T06:25:44.381409",
     "status": "completed"
    },
    "tags": []
   },
   "source": [
    "# What is Web Scraping?\n",
    "> Web scraping is an automatic method to obtain large amounts of data from websites. <br> <br>\n",
    "> Most of this data is unstructured data in an HTML format which is then converted into structured data in a spreadsheet or a database so that it can be used in various applications.<br><br>\n",
    "> There are many different ways to perform web scraping to obtain data from websites. <br><br>\n",
    "> These include using online services, particular API’s or even creating your code for web scraping from scratch.<br><br>\n",
    "> Many large websites, like Google, Twitter, Facebook, StackOverflow, etc. have API’s that allow you to access their data in a structured format. <br><br>\n",
    "> This is the best option, but there are other sites that don’t allow users to access large amounts of data in a structured form or they are simply not that technologically advanced. In that situation, it’s best to use Web Scraping to scrape the website for data.<br><br>\n",
    "> Web scraping requires two parts, namely the crawler and the scraper. <br><br>\n",
    "> The crawler is an artificial intelligence algorithm that browses the web to search for the particular data required by following the links across the internet. <br><br>\n",
    "> The scraper, on the other hand, is a specific tool created to extract data from the website.<br><br>\n",
    "> The design of the scraper can vary greatly according to the complexity and scope of the project so that it can quickly and accurately extract the data.<br><br>"
   ]
  },
  {
   "cell_type": "markdown",
   "id": "dd816c9d",
   "metadata": {
    "papermill": {
     "duration": 0.026481,
     "end_time": "2022-03-14T06:25:44.461115",
     "exception": false,
     "start_time": "2022-03-14T06:25:44.434634",
     "status": "completed"
    },
    "tags": []
   },
   "source": [
    "![](https://miro.medium.com/max/1024/1*uRnYym2aZd_MEgSY--iNxw.png)"
   ]
  },
  {
   "cell_type": "markdown",
   "id": "ea5f70ac",
   "metadata": {
    "papermill": {
     "duration": 0.027973,
     "end_time": "2022-03-14T06:25:44.515582",
     "exception": false,
     "start_time": "2022-03-14T06:25:44.487609",
     "status": "completed"
    },
    "tags": []
   },
   "source": [
    "# Demo:"
   ]
  },
  {
   "cell_type": "code",
   "execution_count": 1,
   "id": "4cb908b4",
   "metadata": {
    "execution": {
     "iopub.execute_input": "2022-03-14T06:25:44.579807Z",
     "iopub.status.busy": "2022-03-14T06:25:44.579082Z",
     "iopub.status.idle": "2022-03-14T06:26:07.203355Z",
     "shell.execute_reply": "2022-03-14T06:26:07.203887Z",
     "shell.execute_reply.started": "2022-03-14T06:01:55.963719Z"
    },
    "papermill": {
     "duration": 22.661798,
     "end_time": "2022-03-14T06:26:07.204203",
     "exception": false,
     "start_time": "2022-03-14T06:25:44.542405",
     "status": "completed"
    },
    "tags": []
   },
   "outputs": [],
   "source": [
    "# First we need to install wikipedia library for that we will use this command\n",
    "\n",
    "from IPython.display import clear_output\n",
    "! pip install wikipedia\n",
    "! pip install mediawikiapi\n",
    "clear_output()"
   ]
  },
  {
   "cell_type": "markdown",
   "id": "471a6501",
   "metadata": {
    "papermill": {
     "duration": 0.026234,
     "end_time": "2022-03-14T06:26:07.256899",
     "exception": false,
     "start_time": "2022-03-14T06:26:07.230665",
     "status": "completed"
    },
    "tags": []
   },
   "source": [
    "# Getting Started\n",
    "Getting the summary of any title\n",
    "Summary of any title can be obtained by using summary method. \n",
    "\n",
    "- Syntax : wikipedia.summary(title, sentences)\n",
    "- Argument : Title of the topic \n",
    "- Optional argument: setting number of lines in result.\n",
    "- Return : Returns the summary in string format. "
   ]
  },
  {
   "cell_type": "code",
   "execution_count": 2,
   "id": "f665fd5a",
   "metadata": {
    "execution": {
     "iopub.execute_input": "2022-03-14T06:26:07.317259Z",
     "iopub.status.busy": "2022-03-14T06:26:07.316540Z",
     "iopub.status.idle": "2022-03-14T06:26:09.212597Z",
     "shell.execute_reply": "2022-03-14T06:26:09.213375Z",
     "shell.execute_reply.started": "2022-03-14T06:02:10.50451Z"
    },
    "papermill": {
     "duration": 1.929135,
     "end_time": "2022-03-14T06:26:09.213612",
     "exception": false,
     "start_time": "2022-03-14T06:26:07.284477",
     "status": "completed"
    },
    "tags": []
   },
   "outputs": [
    {
     "name": "stdout",
     "output_type": "stream",
     "text": [
      "Nikola Tesla ( TESS-lə; Serbian Cyrillic: Никола Тесла, pronounced [nǐkola têsla]; 10 July [O.S. 28 June] 1856 – 7 January 1943) was a Serbian-American inventor, electrical engineer, mechanical engineer, and futurist best known for his contributions to the design of the modern alternating current (AC) electricity supply system.Born and raised in the Austrian Empire, Tesla studied engineering and physics in the 1870s without receiving a degree, gaining practical experience in the early 1880s working in telephony and at Continental Edison in the new electric power industry. In 1884 he emigrated to the United States, where he became a naturalized citizen.\n"
     ]
    }
   ],
   "source": [
    "# importing the module\n",
    "import wikipedia\n",
    "\n",
    "# finding result for the search\n",
    "# sentences = 2 refers to numbers of line\n",
    "result = wikipedia.summary(\"Nikola Tesla\", sentences = 2)\n",
    "\n",
    "# printing the result\n",
    "print(result)\n"
   ]
  },
  {
   "cell_type": "markdown",
   "id": "d604bc6e",
   "metadata": {
    "papermill": {
     "duration": 0.026229,
     "end_time": "2022-03-14T06:26:09.267536",
     "exception": false,
     "start_time": "2022-03-14T06:26:09.241307",
     "status": "completed"
    },
    "tags": []
   },
   "source": [
    "# Searching title and suggestions\n",
    "Title and suggestions can be get by using search() method. \n",
    "\n",
    "- Syntax : wikipedia.search(title, results)\n",
    "- Argument : Title of the topic \n",
    "- Optional argument : setting number of result.\n",
    "- Return : Returns the list of titles. "
   ]
  },
  {
   "cell_type": "code",
   "execution_count": 3,
   "id": "39898f25",
   "metadata": {
    "execution": {
     "iopub.execute_input": "2022-03-14T06:26:09.324692Z",
     "iopub.status.busy": "2022-03-14T06:26:09.323955Z",
     "iopub.status.idle": "2022-03-14T06:26:09.905679Z",
     "shell.execute_reply": "2022-03-14T06:26:09.906167Z",
     "shell.execute_reply.started": "2022-03-14T06:02:12.957289Z"
    },
    "papermill": {
     "duration": 0.611842,
     "end_time": "2022-03-14T06:26:09.906398",
     "exception": false,
     "start_time": "2022-03-14T06:26:09.294556",
     "status": "completed"
    },
    "tags": []
   },
   "outputs": [
    {
     "name": "stdout",
     "output_type": "stream",
     "text": [
      "['Samsung', 'Samsung Electronics', 'Samsung Galaxy', 'Samsung Galaxy S series', 'Samsung Galaxy Watch series']\n"
     ]
    }
   ],
   "source": [
    "# importing the module\n",
    "import wikipedia\n",
    "\n",
    "# getting suggestions\n",
    "result = wikipedia.search(\"Samsung\", results = 5)\n",
    "\n",
    "# printing the result\n",
    "print(result)\n"
   ]
  },
  {
   "cell_type": "markdown",
   "id": "cbbbb6e5",
   "metadata": {
    "papermill": {
     "duration": 0.027281,
     "end_time": "2022-03-14T06:26:09.961585",
     "exception": false,
     "start_time": "2022-03-14T06:26:09.934304",
     "status": "completed"
    },
    "tags": []
   },
   "source": [
    "# Getting Full Wikipedia Page Data\n",
    "The page() method is used to get the contents, categories, coordinates, images, links and other metadata of a Wikipedia page.\n",
    "\n",
    "- Syntax : wikipedia.page(title)\n",
    "- Argument : Title of the topic.\n",
    "- Return : Return a WikipediaPage object. "
   ]
  },
  {
   "cell_type": "code",
   "execution_count": 4,
   "id": "a34b69fe",
   "metadata": {
    "execution": {
     "iopub.execute_input": "2022-03-14T06:26:10.019492Z",
     "iopub.status.busy": "2022-03-14T06:26:10.018876Z",
     "iopub.status.idle": "2022-03-14T06:26:12.378154Z",
     "shell.execute_reply": "2022-03-14T06:26:12.377609Z",
     "shell.execute_reply.started": "2022-03-14T06:02:13.716937Z"
    },
    "papermill": {
     "duration": 2.389328,
     "end_time": "2022-03-14T06:26:12.378377",
     "exception": false,
     "start_time": "2022-03-14T06:26:09.989049",
     "status": "completed"
    },
    "tags": []
   },
   "outputs": [
    {
     "name": "stdout",
     "output_type": "stream",
     "text": [
      "<bound method WikipediaPage.html of <WikipediaPage 'Languages of India'>>\n",
      "Languages of India\n",
      "['1951 Census of India', '1961 Census of India', '1991 Census of India', '2001 Census of India', '2011 Census of India', '2011 census of India', '8th Schedule', 'Abahatta', 'Adi language', 'Administrative language']\n"
     ]
    }
   ],
   "source": [
    "# importing the module\n",
    "import wikipedia\n",
    "\n",
    "# wikipedia page object is created\n",
    "page_object = wikipedia.page(\"Languages of India\")\n",
    "\n",
    "# printing html of page_object\n",
    "print(page_object.html)\n",
    "\n",
    "# printing title\n",
    "print(page_object.original_title)\n",
    "\n",
    "# printing links on that page object\n",
    "print(page_object.links[0:10])\n"
   ]
  },
  {
   "cell_type": "markdown",
   "id": "54a16f3e",
   "metadata": {
    "papermill": {
     "duration": 0.028509,
     "end_time": "2022-03-14T06:26:12.436929",
     "exception": false,
     "start_time": "2022-03-14T06:26:12.408420",
     "status": "completed"
    },
    "tags": []
   },
   "source": [
    "# Changing language of Wikipedia page\n",
    "The language can be changed to your native language if the page exists in your native language. Set_lang() method is used for the same. \n",
    "\n",
    "- Syntax : wikipedia.set_lang(language)\n",
    "- Argument : prefix of the language like for arabic prefix is ar and so on.\n",
    "- Action performed : It converted the data into that language default language is english. "
   ]
  },
  {
   "cell_type": "code",
   "execution_count": 5,
   "id": "f2134eed",
   "metadata": {
    "execution": {
     "iopub.execute_input": "2022-03-14T06:26:12.495471Z",
     "iopub.status.busy": "2022-03-14T06:26:12.494838Z",
     "iopub.status.idle": "2022-03-14T06:26:14.132083Z",
     "shell.execute_reply": "2022-03-14T06:26:14.132615Z",
     "shell.execute_reply.started": "2022-03-14T06:02:16.735149Z"
    },
    "papermill": {
     "duration": 1.66818,
     "end_time": "2022-03-14T06:26:14.132782",
     "exception": false,
     "start_time": "2022-03-14T06:26:12.464602",
     "status": "completed"
    },
    "tags": []
   },
   "outputs": [
    {
     "name": "stdout",
     "output_type": "stream",
     "text": [
      "भारत (आधिकारिक नाम: भारत गणराज्य, अंग्रेज़ी: Republic of India) दक्षिण एशिया में स्थित भारतीय उपमहाद्वीप का सबसे बड़ा देश है। भारत भौगोलिक दृष्टि से विश्व का सातवाँ सबसे बड़ा देश है, जबकि जनसंख्या के दृष्टिकोण से चीन के बाद दूसरा सबसे बड़ा देश है। भारत के पश्चिम में पाकिस्तान, उत्तर-पूर्व में चीन(तिब्बत), नेपाल और भूटान, पूर्व में बांग्लादेश और म्यान्मार स्थित हैं। हिन्द महासागर में इसके दक्षिण पश्चिम में मालदीव, दक्षिण में श्रीलंका और दक्षिण-पूर्व में इंडोनेशिया से भारत की सामुद्रिक सीमा लगती है। इसके उत्तर में हिमालय पर्वत तथा दक्षिण में हिन्द महासागर स्थित है। दक्षिण-पूर्व में बंगाल की खाड़ी तथा पश्चिम में अरब सागर है।\n",
      "आधुनिक मानव या होमो सेपियन्स अफ्रीका से भारतीय उपमहाद्वीप में 55,000 साल पहले आये थे।  1,000 वर्ष पहले ये सिंधु नदी के पश्चिमी हिस्से की तरफ बसे हुए थे जहाँ से इन्होने धीरे धीरे पलायन किया और सिंधु घाटी सभ्यता के रूप में विकसित हुए।  1,200 ईसा पूर्व संस्कृत भाषा सम्पूर्ण भारतीय उपमहाद्वीप में फैली हुए थी और तब तक यहाँ पर हिन्दू धर्म का उद्धव हो चुका था और ऋग्वेद की रचना भी हो चुकी थी।  400 ईसा पूर्व तक आते आते हिन्दू धर्म में जातिवाद देखने को मिल जाता है।  इसी समय बौद्ध एवं जैन धर्म उत्पन्न हो रहे होते हैं।\n",
      "\n",
      "प्रारंभिक राजनीतिक एकत्रीकरण ने गंगा बेसिन में स्थित मौर्य और गुप्त साम्राज्यों को जन्म दिया।\n",
      "\n",
      "उनका समाज विस्तृत सृजनशीलता से भरा हुआ था। प्रारंभिक मध्ययुगीन काल में, ईसाई धर्म, इस्लाम, यहूदी धर्म और पारसी धर्म ने भारत के दक्षिणी और पश्चिमी तटों पर जड़ें जमा लीं। मध्य एशिया से मुस्लिम सेनाओं ने भारत के उत्तरी मैदानों पर लगातार अत्याचार किया, अंततः दिल्ली सल्तनत की स्थापना हुई और उत्तर भारत को मध्यकालीन इस्लाम साम्राज्य में मिला लिया गया।\n",
      " 15 वीं शताब्दी में, विजयनगर साम्राज्य ने दक्षिण भारत में एक लंबे समय तक चलने वाली समग्र हिंदू संस्कृति बनाई। पंजाब में सिख धर्म की स्थापना हुई।  धीरे-धीरे ब्रिटिश ईस्ट इंडिया कंपनी के शासन का विस्तार हुआ, जिसने भारत को औपनिवेशिक अर्थव्यवस्था में बदल दिया तथा अपनी संप्रभुता को भी मजबूत किया। ब्रिटिश राज शासन 1858 में शुरू हुआ। धीरे धीरे एक प्रभावशाली राष्ट्रवादी आंदोलन शुरू हुआ जिसे अहिंसक विरोध के लिए जाना गया और ब्रिटिश शासन को समाप्त करने का प्रमुख कारक बन गया।  1947 में ब्रिटिश भारतीय साम्राज्य को दो स्वतंत्र प्रभुत्वों में विभाजित किया गया, भारतीय अधिराज्य तथा पाकिस्तान अधिराज्य, जिन्हे धर्म के आधार पर विभाजित किया गया। 1950 से भारत एक संघीय गणराज्य है। भारत की जनसंख्या 1951 में 36.1 करोड़ से बढ़कर 2011 में 1.211 करोड़ हो गई। प्रति व्यक्ति आय $64 से बढ़कर $1,498 हो गई और इसकी साक्षरता दर 16.6% से 74% हो गई। भारत एक तेजी से बढ़ती हुई प्रमुख अर्थव्यवस्था और सूचना प्रौद्योगिकी सेवाओं का केंद्र बन गया है।  अंतरिक्ष क्षेत्र में भारत ने उल्लेखनीय तथा अद्वितीय प्रगति की। भारतीय फिल्में, संगीत और आध्यात्मिक शिक्षाएं वैश्विक संस्कृति में विशेष भूमिका निभाती हैं।  भारत ने गरीबी दर को काफी हद तक कम कर दिया है। भारत देश परमाणु बम रखने वाला देश है। कश्मीर तथा भारत-पाकिस्तान और भारत-चीन सीमा पर भारत का पाकिस्तान तथा चीन से विवाद चल रहा है। लैंगिक असमानता, बाल शोषण, बाल कुपोषण, गरीबी, भ्रष्टाचार, प्रदूषण इत्यादि भारत के सामने प्रमुख चुनौतियाँ है। 21.4% क्षेत्र पर वन है। भारत के वन्यजीव, जिन्हें परंपरागत रूप से भारत की संस्कृति में सहिष्णुता के साथ देखा गया है, इन जंगलों और अन्य जगहों पर संरक्षित आवासों में निवास करते हैं।\n",
      "12 फरवरी वर्ष 1948 में महात्मा गांधी के अस्थि कलश जिन 12 तटों पर विसर्जित किए गए थे, त्रिमोहिनी संगम भी उनमें से एक है |\n"
     ]
    }
   ],
   "source": [
    "# importing the module\n",
    "import wikipedia\n",
    "\n",
    "# setting language to hindi\n",
    "wikipedia.set_lang(\"hi\")\n",
    "\n",
    "# printing the summary\n",
    "print(wikipedia.summary(\"India\"))\n"
   ]
  },
  {
   "cell_type": "code",
   "execution_count": 6,
   "id": "1549c8b9",
   "metadata": {
    "execution": {
     "iopub.execute_input": "2022-03-14T06:26:14.196275Z",
     "iopub.status.busy": "2022-03-14T06:26:14.195488Z",
     "iopub.status.idle": "2022-03-14T06:26:15.827902Z",
     "shell.execute_reply": "2022-03-14T06:26:15.828726Z",
     "shell.execute_reply.started": "2022-03-14T06:02:18.855608Z"
    },
    "papermill": {
     "duration": 1.664708,
     "end_time": "2022-03-14T06:26:15.828986",
     "exception": false,
     "start_time": "2022-03-14T06:26:14.164278",
     "status": "completed"
    },
    "tags": []
   },
   "outputs": [
    {
     "name": "stdout",
     "output_type": "stream",
     "text": [
      "La carne de vacuno, carne de res o carne de buey es la carne obtenida de res(Bos taurus).\n",
      "Una de las primeras razas domésticas que pudieron abastecer al hombre de sus necesidades cárnicas pudo haber sido el uro (Bos primigenius) que se extendió a lo largo de Eurasia. En el siglo XVII, algunos ganaderos de Europa empezaron a seleccionar diversas razas bovinas para mejorar ciertas cualidades como su leche, la capacidad y resistencia ante el trabajo agrícola, la calidad de la carne, etc. De esta forma existen hoy en día razas como la francesa Charolesa y Limousin, la italiana Chianina (de tamaño inmenso), las inglesas de Hereford y Shorthorn o la Rubia gallega. En Estados Unidos existen razas autóctonas que proporcionan una carne con sebo entrevetado (en inglés se denomina 'marbling') y que suelen proceder de animales sacrificados a la edad de 15 a 24 meses, este tipo de carne es considerada de buena calidad por el consumidor medio estadounidense. En Japón existen razas como la wagyu de carne entrevetada (de la región de Kōbe), algunas de estas carnes se cortan en finos filetes de 1,5 a 2 mm y se elaboran platos como el sukiyaki y el shabu shabu.\n",
      "Carne de ternera: carne de las vacas o bueyes de entre 8 y 12 meses de edad, con características similares a la anterior, tierna, sabor delicado pero algo más pronunciado, todavía contiene mucha agua y por lo tanto poca grasa.\n",
      "En cuanto a la conservación, para que la carne sea buena tiene que estar fresca y apretada, con bastante grasa blanca. El color de la carne depende de la mioglobina, de manera que en condiciones normales el color de la carne tiene que ser rojo púrpura. Si el vacuno es de mayor edad, el color será más oscuro.\n",
      "En ocasiones, al poner en contacto dos superficies de corte se aprecia que la carne toma un color castaño oscuro, pero esto no afecta la calidad de la carne.\n",
      "El color de la grasa indica la edad del animal. Así, si es blanca, quiere decir que la carne pertenece a una res joven, y, si es amarillenta, a un animal de mayor edad.\n",
      "Respecto a la conservación, la carne de ternera puede permanecer en el frigorífico hasta 14 días. Además, es mejor consumirla después de un tiempo de reposo. Normalmente, cuando se compra la carne ya ha tenido dicho periodo de reposo.\n"
     ]
    }
   ],
   "source": [
    "# importing the module\n",
    "import wikipedia\n",
    "\n",
    "# setting language to spanish\n",
    "wikipedia.set_lang(\"es\")\n",
    "\n",
    "# printing the summary\n",
    "print(wikipedia.summary(\"carne de vaca\"))"
   ]
  },
  {
   "cell_type": "code",
   "execution_count": 7,
   "id": "ac67f755",
   "metadata": {
    "execution": {
     "iopub.execute_input": "2022-03-14T06:26:15.891185Z",
     "iopub.status.busy": "2022-03-14T06:26:15.890328Z",
     "iopub.status.idle": "2022-03-14T06:26:17.687575Z",
     "shell.execute_reply": "2022-03-14T06:26:17.686971Z",
     "shell.execute_reply.started": "2022-03-14T06:02:20.941926Z"
    },
    "papermill": {
     "duration": 1.82956,
     "end_time": "2022-03-14T06:26:17.687732",
     "exception": false,
     "start_time": "2022-03-14T06:26:15.858172",
     "status": "completed"
    },
    "tags": []
   },
   "outputs": [
    {
     "name": "stdout",
     "output_type": "stream",
     "text": [
      "A royal family is the immediate family of kings/queens, emirs/emiras, sultans/sultanas, or raja/rani and sometimes their extended family. The term imperial family appropriately describes the family of an emperor or empress, and the term papal family describes the family of a pope, while the terms baronial family, comital family, ducal family, archducal family, grand ducal family, or princely family are more appropriate to describe, respectively, the relatives of a reigning baron, count/earl, duke, archduke, grand duke, or prince. However, in common parlance members of any family which reigns by hereditary right are often referred to as royalty or \"royals\". It is also customary in some circles to refer to the extended relations of a deposed monarch and their descendants as a royal family. A dynasty is sometimes referred to as the \"House of ...\". In July 2013 there were 26 active sovereign dynasties in the world that ruled or reigned over 43 monarchies.As of 2021, while there are several European countries whose nominal head of state, by long tradition, is a king or queen, the associated royal families, with the notable exception of the British royal family, are non-notable ordinary citizens who may bear a title but are not involved in public affairs.\n"
     ]
    }
   ],
   "source": [
    "# importing the module\n",
    "import wikipedia\n",
    "\n",
    "# setting language to english\n",
    "wikipedia.set_lang(\"en\")\n",
    "\n",
    "# printing the summary\n",
    "print(wikipedia.summary(\"Royal Family\"))\n"
   ]
  },
  {
   "cell_type": "markdown",
   "id": "b176fb4e",
   "metadata": {
    "papermill": {
     "duration": 0.029382,
     "end_time": "2022-03-14T06:26:17.746836",
     "exception": false,
     "start_time": "2022-03-14T06:26:17.717454",
     "status": "completed"
    },
    "tags": []
   },
   "source": [
    "# Page Content: \n",
    "\n",
    "For extracting the content of an article, we will use page() method and content property to get the actual data.\n",
    "\n",
    "- Syntax: wikipedia.page(“Enter Query”).content"
   ]
  },
  {
   "cell_type": "code",
   "execution_count": 8,
   "id": "2081e699",
   "metadata": {
    "execution": {
     "iopub.execute_input": "2022-03-14T06:26:17.810703Z",
     "iopub.status.busy": "2022-03-14T06:26:17.809673Z",
     "iopub.status.idle": "2022-03-14T06:26:19.538638Z",
     "shell.execute_reply": "2022-03-14T06:26:19.539137Z",
     "shell.execute_reply.started": "2022-03-14T06:02:23.19028Z"
    },
    "papermill": {
     "duration": 1.762639,
     "end_time": "2022-03-14T06:26:19.539318",
     "exception": false,
     "start_time": "2022-03-14T06:26:17.776679",
     "status": "completed"
    },
    "tags": []
   },
   "outputs": [
    {
     "data": {
      "text/plain": [
       "'Python is a high-level, general-purpose programming language. Its design philosophy emphasizes code readability with the use of significant indentation. Its language constructs and object-oriented approach aim to help programmers write clear, logical code for small- and large-scale projects.Python is dynamically-typed and garbage-collected. It supports multiple programming paradigms, including structured (particularly procedural), object-oriented and functional programming. It is often described as a \"batteries included\" language due to its comprehensive standard library.Guido van Rossum began working on Python in the late 1980s as a successor to the ABC programming language and first released it in 1991 as Python 0.9.0. Python 2.0 was released in 2000 and introduced new features such as list comprehensions, cycle-detecting garbage collection, reference counting, and Unicode support. Python 3.0, released in 2008, was a major revision that is not completely backward-compatible with earlier versions. Python 2 was discontinued with version 2.7.18 in 2020.Python consistently ranks as one of the most popular programming languages.\\n\\n\\n== History ==\\n\\nPython was conceived in the late 1980s by Guido van Rossum at Centrum Wiskunde & Informatica (CWI) in the Netherlands as a successor to  the ABC programming language, which was inspired by SETL, capable of exception handling and interfacing with the Amoeba operating system. Its implementation began in December 1989. Van Rossum shouldered sole responsibility for the project, as the lead developer, until 12 July 2018, when he announced his \"permanent vacation\" from his responsibilities as Python\\'s \"benevolent dictator for life\", a title the Python community bestowed upon him to reflect his long-term commitment as the project\\'s chief decision-maker. In January 2019, active Python core developers elected a five-member Steering Council to lead the project.Python 2.0 was released on 16 October 2000, with many major new features. Python 3.0, released on 3 December 2008, with many of its major features backported to Python 2.6.x and 2.7.x.  Releases of Python 3 include the 2to3 utility, which automates the translation of Python 2 code to Python 3.Python 2.7\\'s end-of-life was initially set for 2015, then postponed to 2020 out of concern that a large body of existing code could not easily be forward-ported to Python 3.  No further security patches or other improvements will be released for it. With Python 2\\'s end-of-life, only Python 3.6.x and later are supported.\\nPython 3.9.2 and 3.8.8 were expedited as all versions of Python (including 2.7) had security issues leading to possible remote code execution and web cache poisoning.\\n\\n\\n== Design philosophy and features ==\\nPython is a multi-paradigm programming language. Object-oriented programming and structured programming are fully supported, and many of its features support functional programming and aspect-oriented programming (including by metaprogramming and metaobjects [magic methods] ). Many other paradigms are supported via extensions, including design by contract and logic programming.Python uses dynamic typing, and a combination of reference counting and a cycle-detecting garbage collector for memory management. It uses dynamic name resolution (late binding), which binds method and variable names during program execution.\\nIts design offers some support for functional programming in the Lisp tradition. It has filter,mapandreduce functions; list comprehensions, dictionaries, sets, and generator expressions. The standard library has two modules (itertools and functools) that implement functional tools borrowed from Haskell and Standard ML.Its core philosophy is summarized in the document The Zen of Python (PEP 20), which includes aphorisms such as:\\nBeautiful is better than ugly.\\nExplicit is better than implicit.\\nSimple is better than complex.\\nComplex is better than complicated.\\nReadability counts.Rather than building all of its functionality into its core, Python was designed to be highly extensible via modules. This compact modularity has made it particularly popular as a means of adding programmable interfaces to existing applications. Van Rossum\\'s vision of a small core language with a large standard library and easily extensible interpreter stemmed from his frustrations with ABC, which espoused the opposite approach.Python strives for a simpler, less-cluttered syntax and grammar while giving developers a choice in their coding methodology. In contrast to Perl\\'s \"there is more than one way to do it\" motto, Python embraces a \"there should be one—and preferably only one—obvious way to do it\"  philosophy. Alex Martelli, a Fellow at the Python Software Foundation and Python book author, wrote: \"To describe something as \\'clever\\' is not considered a compliment in the Python culture.\"Python\\'s developers strive to avoid premature optimization, and reject patches to non-critical parts of the CPython reference implementation that would offer marginal increases in speed at the cost of clarity. When speed is important, a Python programmer can move time-critical functions to extension modules written in languages such as C; or use PyPy, a just-in-time compiler. Cython is also available, which translates a Python script into C and makes direct C-level API calls into the Python interpreter.\\nPython\\'s developers aim for it to be fun to use. This is reflected in its name—a tribute to the British comedy group Monty Python—and in occasionally playful approaches to tutorials and reference materials, such as examples that refer to spam and eggs (a reference to a Monty Python sketch) instead of the standard foo and bar.A common neologism in the Python community is pythonic, which has a wide range of meanings related to program style. \"Pythonic\" code may use Python idioms well, be natural or show fluency in the language, or conform with Python\\'s minimalist philosophy and emphasis on readability. Code that is difficult to understand or reads like a rough transcription from another programming language is called unpythonic.Python users and admirers, especially those considered knowledgeable or experienced, are often referred to as Pythonistas.\\n\\n\\n== Syntax and semantics ==\\n\\nPython is meant to be an easily readable language. Its formatting is visually uncluttered, and often uses English keywords where other languages use punctuation. Unlike many other languages, it does not use curly brackets to delimit blocks, and semicolons after statements are allowed but rarely used. It has fewer syntactic exceptions and special cases than C or Pascal.\\n\\n\\n=== Indentation ===\\n\\nPython uses whitespace indentation, rather than curly brackets or keywords, to delimit blocks. An increase in indentation comes after certain statements; a decrease in indentation signifies the end of the current block. Thus, the program\\'s visual structure accurately represents its semantic structure. This feature is sometimes termed the off-side rule. Some other languages use indentation this way; but in most, indentation has no semantic meaning. The recommended indent size is four spaces.\\n\\n\\n=== Statements and control flow ===\\nPython\\'s statements include:\\n\\nThe assignment statement, using a single equals sign =\\nThe if statement, which conditionally executes a block of code, along with else and elif (a contraction of else-if)\\nThe for statement, which iterates over an iterable object, capturing each element to a local variable for use by the attached block\\nThe while statement, which executes a block of code as long as its condition is true\\nThe try statement, which allows exceptions raised in its attached code block to be caught and handled by except clauses; it also ensures that clean-up code in a finally block is always run regardless of how the block exits\\nThe raise statement, used to raise a specified exception or re-raise a caught exception\\nThe class statement, which executes a block of code and attaches its local namespace to a class, for use in object-oriented programming\\nThe def statement, which defines a function or method\\nThe with statement, which encloses a code block within a context manager (for example, acquiring a lock before it is run, then releasing the lock; or opening and closing a file), allowing resource-acquisition-is-initialization (RAII)-like behavior and replacing a common try/finally idiom\\nThe break statement, which exits a loop\\nThe continue statement, which skips the current iteration and continues with the next\\nThe del statement, which removes a variable—deleting the reference from the name to the value, and producing an error if the variable is referred to before it is redefined\\nThe pass statement, serving as a NOP, syntactically needed to create an empty code block\\nThe assert statement, used in debugging to check for conditions that should apply\\nThe yield statement, which returns a value from a generator function (and also an operator); used to implement coroutines\\nThe return statement, used to return a value from a function\\nThe import statement, used to import modules whose functions or variables can be used in the current programThe assignment statement (=) binds a name as a reference to a separate, dynamically-allocated object. Variables may subsequently be rebound at any time to any object. In Python, a variable name is a generic reference holder without a fixed data type; however, it always refers to some object with a type. This is called dynamic typing—in contrast to statically-typed languages, where each variable may contain only a value of a certain type.\\nPython does not support tail call optimization or first-class continuations, and, according to van Rossum, it never will. However, better support for coroutine-like functionality is provided by extending Python\\'s generators. Before 2.5, generators were lazy iterators; data was passed unidirectionally out of the generator. From Python 2.5 on, it is possible to pass data back into a generator function; and from version 3.3, it can be passed through multiple stack levels.\\n\\n\\n=== Expressions ===\\nSome Python expressions are similar to those in languages such as C and Java, while some are not:\\n\\nAddition, subtraction and multiplication are the same, but the behavior of division differs. There are two types of divisions in Python: floor division (or integer division) // and floating-point/division. Python also uses the ** operator for exponentiation.\\nThe @ infix operator was introduced in Python 3.5. It is intended to be used by libraries such as NumPy for matrix multiplication.\\nThe syntax :=, called the \"walrus operator\", was introduced in Python 3.8. It assigns values to variables as part of a larger expression.\\nIn Python, == compares by value, versus Java, which compares numerics by value and objects by reference. Python\\'s is operator may be used to compare object identities (comparison by reference), and comparisons may be chained—for example, a <= b <= c.\\nPython uses and, or, and not as boolean operators rather than the symbolic &&, ||, ! in Java and C.\\nPython has a type of expression called a list comprehension, as well as a more general expression called a generator expression.\\nAnonymous functions are implemented using lambda expressions; however, there may be only one expression in each body.\\nConditional expressions are written as x if c else y (different in order of operands from the c ? x : y operator common to many other languages).\\nPython makes a distinction between lists and tuples. Lists are written as [1, 2, 3], are mutable, and cannot be used as the keys of dictionaries (dictionary keys must be immutable in Python). Tuples, written as (1, 2, 3), are immutable and thus can be used as keys of dictionaries, provided all of the tuple\\'s elements are immutable. The + operator can be used to concatenate two tuples, which does not directly modify their contents, but produces a new tuple containing the elements of both. Thus, given the variable t initially equal to (1, 2, 3), executing t = t + (4, 5) first evaluates t + (4, 5), which yields (1, 2, 3, 4, 5), which is then assigned back to t—thereby effectively \"modifying the contents\" of t while conforming to the immutable nature of tuple objects. Parentheses are optional for tuples in unambiguous contexts.\\nPython features sequence unpacking where multiple expressions, each evaluating to anything that can be assigned (to a variable, writable property, etc.) are associated in an identical manner to that forming tuple literals—and, as a whole, are put on the left-hand side of the equal sign in an assignment statement. The statement expects an iterable object on the right-hand side of the equal sign that produces the same number of values as the provided writable expressions; when iterated through them, it assigns each of the produced values to the corresponding expression on the left.\\nPython has a \"string format\" operator % that functions analogously to printf format strings in C—e.g. \"spam=%s eggs=%d\" % (\"blah\", 2) evaluates to \"spam=blah eggs=2\". In Python 2.6+ and 3+, this was supplemented by the format() method of the str class, e.g. \"spam={0} eggs={1}\".format(\"blah\", 2). Python 3.6 added \"f-strings\": blah = \"blah\"; eggs = 2; f\\'spam={blah} eggs={eggs}\\'.\\nStrings in Python can be concatenated by \"adding\" them (with the same operator as for adding integers and floats), e.g. \"spam\" + \"eggs\" returns \"spameggs\". If strings contain numbers, they are added as strings rather than integers, e.g. \"2\" + \"2\" returns \"22\".\\nPython has various string literals:\\nDelimited by single or double quote marks. Unlike in Unix shells, Perl and Perl-influenced languages, single and double quote marks function identically. Both use the backslash (\\\\) as an escape character. String interpolation became available in Python 3.6 as \"formatted string literals\".\\nTriple-quoted (beginning and ending with three single or double quote marks), which may span multiple lines and function like here documents in shells, Perl and Ruby.\\nRaw string varieties, denoted by prefixing the string literal with r. Escape sequences are not interpreted; hence raw strings are useful where literal backslashes are common, such as regular expressions and Windows-style paths. (Compare \"@-quoting\" in C#.)\\nPython has array index and array slicing expressions in lists, denoted as a[key], a[start:stop] or a[start:stop:step]. Indexes are zero-based, and negative indexes are relative to the end. Slices take elements from the start index up to, but not including, the stop index. The third slice parameter, called step or stride, allows elements to be skipped and reversed. Slice indexes may be omitted—for example a[:] returns a copy of the entire list. Each element of a slice is a shallow copy.In Python, a distinction between expressions and statements is rigidly enforced, in contrast to languages such as Common Lisp, Scheme, or Ruby. This leads to duplicating some functionality. For example:\\n\\nList comprehensions vs. for-loops\\nConditional expressions vs. if blocks\\nThe eval() vs. exec() built-in functions (in Python 2, exec is a statement); the former is for expressions, the latter is for statementsStatements cannot be a part of an expression—so list and other comprehensions or lambda expressions, all being expressions, cannot contain statements. A particular case is that an assignment statement such as a = 1 cannot form part of the conditional expression of a conditional statement. This has the advantage of avoiding a classic C error of mistaking an assignment operator = for an equality operator == in conditions: if (c = 1) { ... } is syntactically valid (but probably unintended) C code, but if c = 1: ... causes a syntax error in Python.\\n\\n\\n=== Methods ===\\nMethods on objects are functions attached to the object\\'s class; the syntax instance.method(argument) is, for normal methods and functions, syntactic sugar for Class.method(instance, argument). Python methods have an explicit self parameter to access instance data, in contrast to the implicit self (or this) in some other object-oriented programming languages (e.g., C++, Java, Objective-C, Ruby). Python also provides methods, often called dunder methods (due to their names beginning and ending with double-underscores), to allow user-defined classes to modify how they are handled by native operations including length, comparison, in arithmetic operations and type conversion.\\n\\n\\n=== Typing ===\\n\\nPython uses duck typing and has typed objects but untyped variable names. Type constraints are not checked at compile time; rather, operations on an object may fail, signifying that it is not of a suitable type. Despite being dynamically-typed, Python is strongly-typed, forbidding operations that are not well-defined (for example, adding a number to a string) rather than silently attempting to make sense of them.\\nPython allows programmers to define their own types using classes, most often used for object-oriented programming. New instances of classes are constructed by calling the class (for example, SpamClass() or EggsClass()), and the classes are instances of the metaclass type (itself an instance of itself), allowing metaprogramming and reflection.\\nBefore version 3.0, Python had two kinds of classes: old-style and new-style. The syntax of both is the same, the difference being whether the class object is inherited from, directly or indirectly (all new-style classes inherit from object and are instances of type). In versions of Python 2 from Python 2.2 onwards, both kinds of classes can be used. Old-style classes were eliminated in Python 3.0.\\nThe long-term plan is to support gradual typing. From Python 3.5 on, the language\\'s syntax allows specifying static types, but they are not checked in the default implementation, CPython. An experimental optional static type-checker, mypy, supports compile-time type checking.\\n\\n\\n=== Arithmetic operations ===\\nPython has the usual symbols for arithmetic operators (+, -, *, /), the floor division operator // and the modulo operation % (where the remainder can be negative,  e.g. 4 % -3 == -2). It also has ** for exponentiation, e.g. 5**3 == 125 and 9**0.5 == 3.0, and a matrix‑multiplication operator @ . These operators work like in traditional math; with the same precedence rules, the operators infix (+ and - can also be unary to represent positive and negative numbers respectively).\\nThe division between integers produces floating-point results. The behavior of division has changed significantly over time:\\nCurrent Python (i.e. since 3.0) changed / to always be floating-point division, e.g. 5/2 == 2.5.\\nPython 2.2 changed integer division to round towards negative infinity, e.g. 7/3 == 2 and -7/3 == -3. The floor division // operator was introduced. So 7//3 == 2, -7//3 == -3, 7.5//3 == 2.0 and -7.5//3 == -3.0. Adding from __future__ import division causes a module to use Python 3.0 rules for division (see above).\\nPython 2.1 and earlier used C\\'s division behavior. The / operator is integer division if both operands are integers, and floating-point division otherwise. Integer division rounds towards 0, e.g. 7/3 == 2 and -7/3 == -2.In Python terms, / is true division (or simply division), and // is floor division. / before version 3.0 is classic division.Rounding towards negative infinity, though different from most languages, adds consistency. For instance, it means that the equation (a + b)//b == a//b + 1 is always true. It also means that the equation b*(a//b) + a%b == a is valid for both positive and negative values of a. However, maintaining the validity of this equation means that while the result of a%b is, as expected, in the half-open interval [0, b), where b is a positive integer, it has to lie in the interval (b, 0] when b is negative.Python provides a round function for rounding a float to the nearest integer. For tie-breaking, Python 3 uses round to even: round(1.5) and round(2.5) both produce 2. Versions before 3 used round-away-from-zero: round(0.5) is 1.0, round(-0.5) is −1.0.Python allows boolean expressions with multiple equality relations in a manner that is consistent with general use in mathematics. For example, the expression a < b < c tests whether a is less than b and b is less than c. C-derived languages interpret this expression differently: in C, the expression would first evaluate a < b, resulting in 0 or 1, and that result would then be compared with c.Python uses arbitrary-precision arithmetic for all integer operations. The Decimal type/class in the decimal module provides decimal floating-point numbers to a pre-defined arbitrary precision and several rounding modes. The Fraction class in the fractions module provides arbitrary precision for rational numbers.Due to Python\\'s extensive mathematics library, and the third-party library NumPy that further extends the native capabilities, it is frequently used as a scientific scripting language to aid in problems such as numerical data processing and manipulation.\\n\\n\\n== Programming examples ==\\nHello world program:\\n\\nProgram to calculate the factorial of a positive integer:\\n\\n\\n== Libraries ==\\nPython\\'s large standard library, commonly cited as one of its greatest strengths, provides tools suited to many tasks. For Internet-facing applications, many standard formats and protocols such as MIME and HTTP are supported. It includes modules for creating graphical user interfaces, connecting to relational databases, generating pseudorandom numbers, arithmetic with arbitrary-precision decimals, manipulating regular expressions, and unit testing.\\nSome parts of the standard library are covered by specifications—for example, the Web Server Gateway Interface (WSGI) implementation wsgiref follows PEP 333—but most are specified by their code, internal documentation, and test suites. However, because most of the standard library is cross-platform Python code, only a few modules need altering or rewriting for variant implementations.\\nAs of September 2021, the Python Package Index (PyPI), the official repository for third-party Python software, contains over 329,000 packages with a wide range of functionality, including:\\n\\n\\n== Development environments ==\\n\\nMost Python implementations (including CPython) include a read–eval–print loop (REPL), permitting them to function as a command line interpreter for which users enter statements sequentially and receive results immediately.\\nPython also comes with an Integrated development environment (IDE) called IDLE, which is more beginner-oriented.\\nOther shells, including IDLE and IPython, add further abilities such as improved auto-completion, session state retention and syntax highlighting.\\nAs well as standard desktop integrated development environments, there are Web browser-based IDEs, including SageMath, for developing science- and math-related programs; PythonAnywhere, a browser-based IDE and hosting environment; and Canopy IDE, a commercial IDE emphasizing scientific computing.\\n\\n\\n== Implementations ==\\n\\n\\n=== Reference implementation ===\\nCPython is the reference implementation of Python. It is written in C, meeting the C89 standard with several select C99 features. (With later C versions out, it is considered outdated.  CPython includes its own C extensions, but third-party extensions are not limited to older C versions—e.g. they can be implemented with C11 or C++.) It compiles Python programs into an intermediate bytecode which is then executed by its virtual machine. CPython is distributed with a large standard library written in a mixture of C and native Python, and is available for many platforms, including Windows (starting with Python 3.9, the Python installer deliberately fails to install on Windows 7 and 8; Windows XP was supported until Python 3.5) and most modern Unix-like systems, including macOS (and Apple M1 Macs, since Python 3.9.1, with experimental installer) and unofficial support for e.g. VMS. Platform portability was one of its earliest priorities. (During Python 1 and 2 development, even OS/2 and Solaris were supported, but support has since been dropped for many platforms.)\\n\\n\\n=== Other implementations ===\\nPyPy is a fast, compliant interpreter of Python 2.7 and 3.8.  Its just-in-time compiler brings a significant speed improvement over CPython but some libraries written in C cannot be used with it.\\nStackless Python is a significant fork of CPython that implements microthreads; it does not use the call stack in the same way, thus allowing massively concurrent programs. PyPy also has a stackless version.\\nMicroPython and CircuitPython are Python 3 variants optimized for microcontrollers, including Lego Mindstorms EV3.\\nPyston is a variant of the Python runtime that uses just-in-time compilation to speed up the execution of Python programs.\\nCinder is a performance-oriented fork of CPython 3.8 that contains a number of optimizations including bytecode inline caching, eager evaluation of coroutines, a method-at-a-time JIT and an experimental bytecode compiler.\\n\\n\\n=== Unsupported implementations ===\\nOther just-in-time Python compilers have been developed, but are now unsupported:\\n\\nGoogle began a project named Unladen Swallow in 2009, with the aim of speeding up the Python interpreter fivefold by using the LLVM, and of improving its multithreading ability to scale to thousands of cores, while ordinary implementations suffer from the global interpreter lock.\\nPsyco is a discontinued just-in-time specializing compiler that integrates with CPython and transforms bytecode to machine code at runtime. The emitted code is specialized for certain data types and is faster than the standard Python code. Psyco does not support Python 2.7 or later.\\nPyS60 was a Python 2 interpreter for Series 60 mobile phones released by Nokia in 2005. It implemented many of the modules from the standard library and some additional modules for integrating with the Symbian operating system. The Nokia N900 also supports Python with GTK widget libraries, enabling programs to be written and run on the target device.\\n\\n\\n=== Cross-compilers to other languages ===\\nThere are several compilers to high-level object languages, with either unrestricted Python, a restricted subset of Python, or a language similar to Python as the source language:\\n\\nCython compiles (a superset of) Python 2.7 to C (while the resulting code is also usable with Python 3 and also e.g. C++).\\nNuitka compiles Python into C++.\\nPythran compiles a subset of Python 3 to C++.\\nPyrex (latest release in 2010) and Shed Skin (latest release in 2013) compile to C and C++ respectively.\\nGoogle\\'s Grumpy (latest release in 2017) transpiles Python 2 to Go.\\nIronPython  allows running Python 2.7 programs (and an alpha, released in 2021, is also available for \"Python 3.4, although features and behaviors from later versions may be included\") on the .NET Common Language Runtime.\\nJython compiles Python 2.7 to Java bytecode, allowing the use of the Java libraries from a Python program.\\nMyHDL is a Python-based hardware description language (HDL), that converts MyHDL code to Verilog or VHDL code.\\nNumba uses LLVM to compile a subset of Python to machine code.\\nBrython, Transcrypt and Pyjs (latest release in 2012) compile Python to JavaScript.\\nRPython can be compiled to C, and is used to build the PyPy interpreter of Python.\\n\\n\\n=== Performance ===\\nA performance comparison of various Python implementations on a non-numerical (combinatorial) workload was presented at EuroSciPy \\'13. Python\\'s performance compared to other programming languages is also benchmarked by The Computer Language Benchmarks Game.\\n\\n\\n== Development ==\\nPython\\'s development is conducted largely through the Python Enhancement Proposal (PEP) process, the primary mechanism for proposing major new features, collecting community input on issues and documenting Python design decisions. Python coding style is covered in PEP 8. Outstanding PEPs are reviewed and commented on by the Python community and the steering council.Enhancement of the language corresponds with development of the CPython reference implementation. The mailing list python-dev is the primary forum for the language\\'s development. Specific issues are discussed in the Roundup bug tracker hosted at bugs.python.org. Development originally took place on a self-hosted source-code repository running Mercurial, until Python moved to GitHub in January 2017.CPython\\'s public releases come in three types, distinguished by which part of the version number is incremented:\\n\\nBackward-incompatible versions, where code is expected to break and needs to be manually ported. The first part of the version number is incremented. These releases happen infrequently—version 3.0 was released 8 years after 2.0.\\nMajor or \"feature\" releases are largely compatible with the previous version but introduce new features. The second part of the version number is incremented. Starting with Python 3.9, these releases are expected to happen annually. Each major version is supported by bugfixes for several years after its release.\\nBugfix releases, which introduce no new features, occur about every 3 months and are made when a sufficient number of bugs have been fixed upstream since the last release. Security vulnerabilities are also patched in these releases. The third and final part of the version number is incremented.Many alpha, beta, and release-candidates are also released as previews and for testing before final releases. Although there is a rough schedule for each release, they are often delayed if the code is not ready. Python\\'s development team monitors the state of the code by running the large unit test suite during development.The major academic conference on Python is PyCon. There are also special Python mentoring programmes, such as Pyladies.\\nPython 3.10 deprecated wstr (to be removed in Python 3.12; meaning Python extensions need to be modified by then), and added pattern matching to the language.\\n\\n\\n== API documentation generators ==\\nTools that can generate documentation for Python API include pydoc (available as part of standard library), Sphinx, Pdoc and its forks, Doxygen and Graphviz, among others.\\n\\n\\n== Naming ==\\nPython\\'s name is derived from the British comedy group Monty Python, whom Python creator Guido van Rossum enjoyed while developing the language. Monty Python references appear frequently in Python code and culture; for example, the metasyntactic variables often used in Python literature are spam and eggs instead of the traditional foo and bar. The official Python documentation also contains various references to Monty Python routines.The prefix Py- is used to show that something is related to Python. Examples of the use of this prefix in names of Python applications or libraries include Pygame, a binding of SDL to Python (commonly used to create games); PyQt and PyGTK, which bind Qt and GTK to Python respectively; and PyPy, a Python implementation originally written in Python.\\n\\n\\n== Popularity ==\\nSince 2003, Python has consistently ranked in the top ten most popular programming languages in the TIOBE Programming Community Index where, as of October 2021, it is the most popular language (ahead of Java, and C). It was selected Programming Language of the Year (for \"the highest rise in ratings in a year\") in 2007, 2010, 2018, and 2020 (the only language to do so four times).An empirical study found that scripting languages, such as Python, are more productive than conventional languages, such as C and Java, for programming problems involving string manipulation and search in a dictionary, and determined that memory consumption was often \"better than Java and not much worse than C or C++\".Large organizations that use Python include Wikipedia, Google, Yahoo!, CERN, NASA, Facebook, Amazon, Instagram, Spotify and some smaller entities like ILM and ITA. The social news networking site Reddit was written mostly in Python.\\n\\n\\n== Uses ==\\n\\nPython can serve as a scripting language for web applications, e.g., via mod_wsgi for the Apache web server. With Web Server Gateway Interface, a standard API has evolved to facilitate these applications. Web frameworks like Django, Pylons, Pyramid, TurboGears, web2py, Tornado, Flask, Bottle and Zope support developers in the design and maintenance of complex applications. Pyjs and IronPython can be used to develop the client-side of Ajax-based applications. SQLAlchemy can be used as a data mapper to a relational database. Twisted is a framework to program communications between computers, and is used (for example) by Dropbox.\\nLibraries such as NumPy, SciPy and Matplotlib allow the effective use of Python in scientific computing, with specialized libraries such as Biopython and Astropy providing domain-specific functionality. SageMath is a computer algebra system with a notebook interface programmable in Python: its library covers many aspects of mathematics, including algebra, combinatorics, numerical mathematics, number theory, and calculus. OpenCV has Python bindings with a rich set of features for computer vision and image processing.Python is commonly used in artificial intelligence projects and machine learning projects with the help of libraries like TensorFlow, Keras, Pytorch and Scikit-learn. As a scripting language with modular architecture, simple syntax and rich text processing tools, Python is often used for natural language processing.Python can also be used to create games, with libraries such as Pygame, which can make 2D games.\\nPython has been successfully embedded in many software products as a scripting language, including in finite element method software such as Abaqus, 3D parametric modeler like FreeCAD, 3D animation packages such as 3ds Max, Blender, Cinema 4D, Lightwave, Houdini, Maya, modo, MotionBuilder, Softimage, the visual effects compositor Nuke, 2D imaging programs like GIMP, Inkscape, Scribus and Paint Shop Pro, and musical notation programs like scorewriter and capella. GNU Debugger uses Python as a pretty printer to show complex structures such as C++ containers. Esri promotes Python as the best choice for writing scripts in ArcGIS. It has also been used in several video games, and has been adopted as first of the three available programming languages in Google App Engine, the other two being Java and Go.Many operating systems include Python as a standard component. It ships with most Linux distributions, AmigaOS 4 (using Python 2.7), FreeBSD (as a package), NetBSD, OpenBSD (as a package) and macOS and can be used from the command line (terminal). Many Linux distributions use installers written in Python: Ubuntu uses the Ubiquity installer, while Red Hat Linux and Fedora Linux use the Anaconda installer. Gentoo Linux uses Python in its package management system, Portage.\\nPython is used extensively in the information security industry, including in exploit development.Most of the Sugar software for the One Laptop per Child XO, now developed at Sugar Labs, is written in Python. The Raspberry Pi single-board computer project has adopted Python as its main user-programming language.\\nLibreOffice includes Python, and intends to replace Java with Python. Its Python Scripting Provider is a core feature since Version 4.0 from 7 February 2013.\\n\\n\\n== Languages influenced by Python ==\\nPython\\'s design and philosophy have influenced many other programming languages:\\n\\nBoo uses indentation, a similar syntax, and a similar object model.\\nCobra uses indentation and a similar syntax, and its Acknowledgements document lists Python first among languages that influenced it.\\nCoffeeScript, a programming language that cross-compiles to JavaScript, has Python-inspired syntax.\\nECMAScript/JavaScript borrowed iterators and generators from Python.\\nGDScript, a scripting language very similar to Python, built-in to the Godot game engine.\\nGo is designed for the \"speed of working in a dynamic language like Python\" and shares the same syntax for slicing arrays.\\nGroovy was motivated by the desire to bring the Python design philosophy to Java.\\nJulia was designed to be \"as usable for general programming as Python\".\\nNim uses indentation and similar syntax.\\nRuby\\'s creator, Yukihiro Matsumoto, has said: \"I wanted a scripting language that was more powerful than Perl, and more object-oriented than Python. That\\'s why I decided to design my own language.\"\\nSwift, a programming language developed by Apple, has some Python-inspired syntax.Python\\'s development practices have also been emulated by other languages. For example, the practice of requiring a document describing the rationale for, and issues surrounding, a change to the language (in Python, a PEP) is also used in Tcl, Erlang, and Swift.\\n\\n\\n== See also ==\\n\\nPython syntax and semantics\\npip (package manager)\\n\\n\\n== References ==\\n\\n\\n=== Sources ===\\n\"Python for Artificial Intelligence\". Wiki.python.org. 19 July 2012. Archived from the original on 1 November 2012. Retrieved 3 December 2012.\\nPaine, Jocelyn, ed. (August 2005). \"AI in Python\". AI Expert Newsletter. Amzi!. Archived from the original on 26 March 2012. Retrieved 11 February 2012.\\n\"PyAIML 0.8.5 : Python Package Index\". Pypi.python.org. Retrieved 17 July 2013.\\nRussell, Stuart J. & Norvig, Peter (2009). Artificial Intelligence: A Modern Approach (3rd ed.). Upper Saddle River, NJ: Prentice Hall. ISBN 978-0-13-604259-4.\\n\\n\\n== Further reading ==\\nDowney, Allen B. (May 2012). Think Python: How to Think Like a Computer Scientist (Version 1.6.6 ed.). ISBN 978-0-521-72596-5.\\nHamilton, Naomi (5 August 2008). \"The A-Z of Programming Languages: Python\". Computerworld. Archived from the original on 29 December 2008. Retrieved 31 March 2010.\\nLutz, Mark (2013). Learning Python (5th ed.). O\\'Reilly Media. ISBN 978-0-596-15806-4.\\nPilgrim, Mark (2004). Dive into Python. Apress. ISBN 978-1-59059-356-1.\\nPilgrim, Mark (2009). Dive into Python 3. Apress. ISBN 978-1-4302-2415-0.\\nSummerfield, Mark (2009). Programming in Python 3 (2nd ed.). Addison-Wesley Professional. ISBN 978-0-321-68056-3.\\n\\n\\n== External links ==\\n\\nOfficial website'"
      ]
     },
     "execution_count": 8,
     "metadata": {},
     "output_type": "execute_result"
    }
   ],
   "source": [
    "wikipedia.page(\"Python (programming language)\").content"
   ]
  },
  {
   "cell_type": "markdown",
   "id": "6d2b04af",
   "metadata": {
    "papermill": {
     "duration": 0.030298,
     "end_time": "2022-03-14T06:26:19.600881",
     "exception": false,
     "start_time": "2022-03-14T06:26:19.570583",
     "status": "completed"
    },
    "tags": []
   },
   "source": [
    "# Extract images from Wikipedia.\n",
    "\n",
    " - Syntax: wikipedia.page(“Enter Query”).images"
   ]
  },
  {
   "cell_type": "code",
   "execution_count": 9,
   "id": "951f7c1d",
   "metadata": {
    "execution": {
     "iopub.execute_input": "2022-03-14T06:26:19.665708Z",
     "iopub.status.busy": "2022-03-14T06:26:19.665034Z",
     "iopub.status.idle": "2022-03-14T06:26:20.786676Z",
     "shell.execute_reply": "2022-03-14T06:26:20.787188Z",
     "shell.execute_reply.started": "2022-03-14T06:02:25.494444Z"
    },
    "papermill": {
     "duration": 1.155974,
     "end_time": "2022-03-14T06:26:20.787393",
     "exception": false,
     "start_time": "2022-03-14T06:26:19.631419",
     "status": "completed"
    },
    "tags": []
   },
   "outputs": [
    {
     "data": {
      "text/plain": [
       "['https://upload.wikimedia.org/wikipedia/commons/3/31/Free_and_open-source_software_logo_%282009%29.svg',\n",
       " 'https://upload.wikimedia.org/wikipedia/commons/9/94/Guido_van_Rossum_OSCON_2006_cropped.png',\n",
       " 'https://upload.wikimedia.org/wikipedia/commons/6/6f/Octicons-terminal.svg',\n",
       " 'https://upload.wikimedia.org/wikipedia/commons/c/c3/Python-logo-notext.svg',\n",
       " 'https://upload.wikimedia.org/wikipedia/commons/1/10/Python_3._The_standard_type_hierarchy.png',\n",
       " 'https://upload.wikimedia.org/wikipedia/commons/b/bd/Python_Powered.png',\n",
       " 'https://upload.wikimedia.org/wikipedia/commons/d/df/Wikibooks-logo-en-noslogan.svg',\n",
       " 'https://upload.wikimedia.org/wikipedia/commons/f/fa/Wikibooks-logo.svg',\n",
       " 'https://upload.wikimedia.org/wikipedia/commons/f/ff/Wikidata-logo.svg',\n",
       " 'https://upload.wikimedia.org/wikipedia/commons/f/fa/Wikiquote-logo.svg',\n",
       " 'https://upload.wikimedia.org/wikipedia/commons/0/0b/Wikiversity_logo_2017.svg',\n",
       " 'https://upload.wikimedia.org/wikipedia/en/4/4a/Commons-logo.svg',\n",
       " 'https://upload.wikimedia.org/wikipedia/en/8/8a/OOjs_UI_icon_edit-ltr-progressive.svg',\n",
       " 'https://upload.wikimedia.org/wikipedia/en/9/96/Symbol_category_class.svg',\n",
       " 'https://upload.wikimedia.org/wikipedia/en/d/db/Symbol_list_class.svg',\n",
       " 'https://upload.wikimedia.org/wikipedia/en/e/e2/Symbol_portal_class.svg',\n",
       " 'https://upload.wikimedia.org/wikipedia/en/9/94/Symbol_support_vote.svg']"
      ]
     },
     "execution_count": 9,
     "metadata": {},
     "output_type": "execute_result"
    }
   ],
   "source": [
    "wikipedia.page(\"Python (programming language)\").images"
   ]
  },
  {
   "cell_type": "markdown",
   "id": "589c2009",
   "metadata": {
    "papermill": {
     "duration": 0.030965,
     "end_time": "2022-03-14T06:26:20.850495",
     "exception": false,
     "start_time": "2022-03-14T06:26:20.819530",
     "status": "completed"
    },
    "tags": []
   },
   "source": [
    "# Extract current Page URL: \n",
    "\n",
    "Use page() method and url property. \n",
    "\n",
    "- Syntax: wikipedia.page(“Enter Query”).url"
   ]
  },
  {
   "cell_type": "code",
   "execution_count": 10,
   "id": "49911150",
   "metadata": {
    "execution": {
     "iopub.execute_input": "2022-03-14T06:26:20.921630Z",
     "iopub.status.busy": "2022-03-14T06:26:20.920804Z",
     "iopub.status.idle": "2022-03-14T06:26:23.239157Z",
     "shell.execute_reply": "2022-03-14T06:26:23.240260Z",
     "shell.execute_reply.started": "2022-03-14T06:02:26.927742Z"
    },
    "papermill": {
     "duration": 2.358755,
     "end_time": "2022-03-14T06:26:23.240474",
     "exception": false,
     "start_time": "2022-03-14T06:26:20.881719",
     "status": "completed"
    },
    "tags": []
   },
   "outputs": [
    {
     "data": {
      "text/plain": [
       "'https://en.wikipedia.org/wiki/%22Hello,_World!%22_program'"
      ]
     },
     "execution_count": 10,
     "metadata": {},
     "output_type": "execute_result"
    }
   ],
   "source": [
    "wikipedia.page('\"Hello, World!\" program').url"
   ]
  },
  {
   "cell_type": "markdown",
   "id": "c09facf3",
   "metadata": {
    "papermill": {
     "duration": 0.031437,
     "end_time": "2022-03-14T06:26:23.304143",
     "exception": false,
     "start_time": "2022-03-14T06:26:23.272706",
     "status": "completed"
    },
    "tags": []
   },
   "source": [
    "# Get the list of categories of articles.\n",
    "\n",
    "Use page() method and categories property. \n",
    "\n",
    "- Syntax: wikipedia.page(“Enter Query”).categories"
   ]
  },
  {
   "cell_type": "code",
   "execution_count": 11,
   "id": "526355ca",
   "metadata": {
    "execution": {
     "iopub.execute_input": "2022-03-14T06:26:23.371079Z",
     "iopub.status.busy": "2022-03-14T06:26:23.369997Z",
     "iopub.status.idle": "2022-03-14T06:26:24.405541Z",
     "shell.execute_reply": "2022-03-14T06:26:24.404888Z",
     "shell.execute_reply.started": "2022-03-14T06:02:28.350432Z"
    },
    "papermill": {
     "duration": 1.070283,
     "end_time": "2022-03-14T06:26:24.405679",
     "exception": false,
     "start_time": "2022-03-14T06:26:23.335396",
     "status": "completed"
    },
    "tags": []
   },
   "outputs": [
    {
     "data": {
      "text/plain": [
       "['Articles with example code',\n",
       " 'Articles with short description',\n",
       " 'Commons category link is on Wikidata',\n",
       " 'Computer programming folklore',\n",
       " 'Short description is different from Wikidata',\n",
       " 'Test items in computer languages',\n",
       " 'Webarchive template wayback links',\n",
       " 'Wikipedia semi-protected pages']"
      ]
     },
     "execution_count": 11,
     "metadata": {},
     "output_type": "execute_result"
    }
   ],
   "source": [
    "wikipedia.page('\"Hello, World!\" program').categories"
   ]
  },
  {
   "cell_type": "markdown",
   "id": "3b7c029f",
   "metadata": {
    "papermill": {
     "duration": 0.0319,
     "end_time": "2022-03-14T06:26:24.470572",
     "exception": false,
     "start_time": "2022-03-14T06:26:24.438672",
     "status": "completed"
    },
    "tags": []
   },
   "source": [
    "# Get the list of all links to an article \n",
    "\n",
    "- Syntax: wikipedia.page(“Enter Query”).links"
   ]
  },
  {
   "cell_type": "code",
   "execution_count": 12,
   "id": "b0b460fc",
   "metadata": {
    "execution": {
     "iopub.execute_input": "2022-03-14T06:26:24.538724Z",
     "iopub.status.busy": "2022-03-14T06:26:24.537983Z",
     "iopub.status.idle": "2022-03-14T06:26:25.602017Z",
     "shell.execute_reply": "2022-03-14T06:26:25.601477Z",
     "shell.execute_reply.started": "2022-03-14T06:02:29.723304Z"
    },
    "papermill": {
     "duration": 1.099462,
     "end_time": "2022-03-14T06:26:25.602163",
     "exception": false,
     "start_time": "2022-03-14T06:26:24.502701",
     "status": "completed"
    },
    "tags": []
   },
   "outputs": [
    {
     "data": {
      "text/plain": [
       "['.deb',\n",
       " '1951 USAF resolution test chart',\n",
       " '3D computer graphics',\n",
       " '99 Bottles of Beer',\n",
       " 'ASCII',\n",
       " 'Acid3',\n",
       " 'Application programming interface',\n",
       " 'Artificial intelligence',\n",
       " 'BASIC',\n",
       " 'BCPL',\n",
       " 'B (programming language)',\n",
       " 'Bad Apple!!',\n",
       " 'Ballerina (programming language)',\n",
       " 'Bash (Unix shell)',\n",
       " 'Batch file',\n",
       " 'Bell Labs',\n",
       " 'Brian Kernighan',\n",
       " 'Brian W. Kernighan',\n",
       " 'C++',\n",
       " 'COBOL',\n",
       " 'C (programming language)',\n",
       " 'C Sharp (programming language)',\n",
       " 'Calgary corpus',\n",
       " 'Canterbury corpus',\n",
       " 'Catchphrase',\n",
       " 'Chinese room',\n",
       " 'Clojure',\n",
       " 'Complex programmable logic device',\n",
       " 'Computer',\n",
       " 'Computer graphics',\n",
       " 'Computer language',\n",
       " 'Cornell box',\n",
       " 'D (programming language)',\n",
       " 'Dart (programming language)',\n",
       " 'Data compression',\n",
       " 'Debian',\n",
       " 'Dennis M. Ritchie',\n",
       " 'EICAR test file',\n",
       " 'ETP-1',\n",
       " 'EURion constellation',\n",
       " 'Elixir (programming language)',\n",
       " 'Embedded system',\n",
       " 'Englewood Cliffs, NJ',\n",
       " 'Entry point',\n",
       " 'Esoteric programming language',\n",
       " 'Ezhil (programming language)',\n",
       " 'Factorial',\n",
       " 'Field-programmable gate arrays',\n",
       " 'Film leader',\n",
       " 'Foobar',\n",
       " 'Fortran',\n",
       " 'Functional programming',\n",
       " 'GNU',\n",
       " 'GNU Hello',\n",
       " 'GTUBE',\n",
       " 'GitHub',\n",
       " 'Go (programming language)',\n",
       " 'Go programming language',\n",
       " 'Hamburgevons',\n",
       " 'Harvard sentences',\n",
       " 'Haskell (programming language)',\n",
       " 'Hello World',\n",
       " 'Hello World (disambiguation)',\n",
       " 'ISBN (identifier)',\n",
       " 'ImageNet',\n",
       " 'Indian-head test pattern',\n",
       " 'Input/output',\n",
       " 'Jargon File',\n",
       " 'JavaScript',\n",
       " 'Java (programming language)',\n",
       " 'Java BluePrints',\n",
       " 'Just another Perl hacker',\n",
       " 'Kotlin (programming language)',\n",
       " 'Lenna',\n",
       " 'Library (computing)',\n",
       " 'Light-emitting diode',\n",
       " 'Light Emitting Diode',\n",
       " 'Light painting',\n",
       " 'Linux distribution',\n",
       " 'Lisp (programming language)',\n",
       " 'List of BBC test cards',\n",
       " 'List of basic computer science topics',\n",
       " 'List of datasets for machine-learning research',\n",
       " 'Logo (programming language)',\n",
       " 'Lorem ipsum',\n",
       " 'Low-level programming language',\n",
       " 'Lua (programming language)',\n",
       " 'ML (programming language)',\n",
       " 'MNIST database',\n",
       " 'Machine learning',\n",
       " 'Malbolge',\n",
       " 'Man or boy test',\n",
       " 'Martin Richards (computer scientist)',\n",
       " 'Microcontroller',\n",
       " 'Newline',\n",
       " 'OCaml',\n",
       " 'Objective-C',\n",
       " 'PHP',\n",
       " 'Package manager',\n",
       " 'Packt Publishing Ltd',\n",
       " 'Pangram',\n",
       " 'Parameter (computer programming)',\n",
       " 'Pascal (programming language)',\n",
       " 'Perl',\n",
       " 'Philips',\n",
       " 'Philips PM5540',\n",
       " 'Philips PM5544',\n",
       " 'PlayStation Portable homebrew',\n",
       " 'PowerShell',\n",
       " 'Prentice Hall',\n",
       " 'Princeton University',\n",
       " 'Principle of good enough',\n",
       " 'Prolog',\n",
       " 'Python (programming language)',\n",
       " 'Quine (computing)',\n",
       " 'Reference implementation',\n",
       " 'Rosetta Code',\n",
       " 'Ruby (programming language)',\n",
       " 'Rust (programming language)',\n",
       " 'SMPTE color bars',\n",
       " 'Sanity check',\n",
       " 'Sanity test',\n",
       " 'Scalable vector graphics',\n",
       " 'Scripting language',\n",
       " 'Shakedown (testing)',\n",
       " 'Side effect (computer science)',\n",
       " 'Source code',\n",
       " 'Standard ML',\n",
       " 'Standard streams',\n",
       " 'Standard test image',\n",
       " 'Stanford bunny',\n",
       " 'Stanford dragon',\n",
       " 'Statement (computer science)',\n",
       " 'String (computer science)',\n",
       " 'Subroutine',\n",
       " 'Sun Microsystems',\n",
       " 'Swift (programming language)',\n",
       " 'Syntax',\n",
       " 'TI-BASIC',\n",
       " 'TPK algorithm',\n",
       " 'TVE test card',\n",
       " 'Telefunken FuBK',\n",
       " 'Test Card F',\n",
       " 'Test Card G',\n",
       " 'Test Card W',\n",
       " 'Test Card X',\n",
       " 'Test card',\n",
       " 'The C Programming Language (book)',\n",
       " 'The North Wind and the Sun',\n",
       " 'The quick brown fox jumps over the lazy dog',\n",
       " \"Tom's Diner\",\n",
       " 'Trabb Pardo-Knuth algorithm',\n",
       " 'Turing test',\n",
       " 'Typography',\n",
       " 'UEIT - Universal Electronic Test Chart',\n",
       " 'Ubuntu (operating system)',\n",
       " 'Unicode',\n",
       " 'University of Cambridge',\n",
       " 'Utah teapot',\n",
       " 'VHDL',\n",
       " 'Wayback Machine',\n",
       " 'Webdriver Torso',\n",
       " 'William B. Williams (DJ)',\n",
       " 'XL (programming language)',\n",
       " 'Zig (programming language)']"
      ]
     },
     "execution_count": 12,
     "metadata": {},
     "output_type": "execute_result"
    }
   ],
   "source": [
    "wikipedia.page('\"Hello, World!\" program').links"
   ]
  },
  {
   "cell_type": "markdown",
   "id": "0a695ba0",
   "metadata": {
    "papermill": {
     "duration": 0.033032,
     "end_time": "2022-03-14T06:26:25.668597",
     "exception": false,
     "start_time": "2022-03-14T06:26:25.635565",
     "status": "completed"
    },
    "tags": []
   },
   "source": [
    "# Get data in different languages.\n",
    "\n",
    "Now we will see language conversion, for converting into another language we will use set_lang() method. \n",
    "\n",
    "- Syntax: wikipedia.set_lang(“Enter Language Type”)"
   ]
  },
  {
   "cell_type": "code",
   "execution_count": 13,
   "id": "0e91c590",
   "metadata": {
    "execution": {
     "iopub.execute_input": "2022-03-14T06:26:25.741166Z",
     "iopub.status.busy": "2022-03-14T06:26:25.736280Z",
     "iopub.status.idle": "2022-03-14T06:26:27.319452Z",
     "shell.execute_reply": "2022-03-14T06:26:27.319967Z",
     "shell.execute_reply.started": "2022-03-14T06:02:31.078162Z"
    },
    "papermill": {
     "duration": 1.618987,
     "end_time": "2022-03-14T06:26:27.320134",
     "exception": false,
     "start_time": "2022-03-14T06:26:25.701147",
     "status": "completed"
    },
    "tags": []
   },
   "outputs": [
    {
     "data": {
      "text/plain": [
       "'जावा एक प्रोग्रामिंग भाषा है जिसे मूलतः सन माइक्रोसिस्टम्स के जेम्स गोसलिंग द्वारा विकसित किया गया तथा 1995 में इसे सन माइक्रोसिस्टम्स के जावा प्लेटफ़ार्म के एक मुख्य अवयव के रूप में रिलीज़ किया गया। भाषा अपना अधिकांश वाक्य विन्यास (सिंटेक्स) C (सी) और C++ से प्राप्त करती है लेकिन इसके पास एक सरल ऑब्जेक्ट मॉडल और कुछ निम्न स्तर की सुविधायें मौजूद हैं। जावा के प्रयोगों को विशिष्ट रूप से बाईटकोड (क्लास फाइल) के लिए संकलित किया जाता है जिसे किसी भी कंप्यूटर आर्किटेक्चर वाले किसी भी जावा वर्चुअल मशीन (JVM) पर चालू किया जा सकता है।\\n1995 से सन द्वारा मूल तथा सन्दर्भ कार्यान्वयन जावा संकलकों (कम्पाइलरों), वर्चुअल मशीनों और क्लास लाइब्रेरियों को विकसित किया गया। मई 2007 तक, जावा कम्युनिटी प्रोसेस के विशेष उल्लेखपूर्वक अनुमति में सन ने अपने अधिकांश जावा प्रोद्योगिकियों को GNU जनरल पब्लिक लाइसेन्स के अर्न्तगत मुफ्त सॉफ्टवेयर के रूप में उपलब्ध कराया. दूसरों ने भी सन की इन प्रोद्योगिकियों के वैकल्पिक कार्यान्वयनों को विकसित किया, जैसे कि GNU क्लासपाथ और जावा के लिए GNU कम्पाइलर.'"
      ]
     },
     "execution_count": 13,
     "metadata": {},
     "output_type": "execute_result"
    }
   ],
   "source": [
    "wikipedia.set_lang(\"hi\")\n",
    "wikipedia.summary('\"Hello, World!\" program')"
   ]
  },
  {
   "cell_type": "markdown",
   "id": "cd6373c9",
   "metadata": {
    "papermill": {
     "duration": 0.032706,
     "end_time": "2022-03-14T06:26:27.385500",
     "exception": false,
     "start_time": "2022-03-14T06:26:27.352794",
     "status": "completed"
    },
    "tags": []
   },
   "source": [
    "# Conclusion:\n",
    "- Here we just implemented the basics of the wikipedia module, to get the summary of the text, get image url, get the url of the pages, get the suggestion of the certain topics, and many more.\n",
    "- Mostly we havent scrape the data from wikipedia, but we can do that too.\n",
    "- There are number of ways we can play around and test this library for scraping the data.\n",
    "- We can also scrap the data that we want using few steps, but it will be implemented in different notebook."
   ]
  },
  {
   "cell_type": "markdown",
   "id": "2acfffe7",
   "metadata": {
    "papermill": {
     "duration": 0.032553,
     "end_time": "2022-03-14T06:26:27.450913",
     "exception": false,
     "start_time": "2022-03-14T06:26:27.418360",
     "status": "completed"
    },
    "tags": []
   },
   "source": [
    "# Next Work:\n",
    "- [Scraping the custom data from Wikipedia](https://www.kaggle.com/meetnagadia/scrap-data-using-wikipedia)\n",
    "- Preprocessing the Data.\n",
    "- Converting data to csv format.\n",
    "- Performing Classification on our Corpus."
   ]
  },
  {
   "cell_type": "markdown",
   "id": "e7eb95f8",
   "metadata": {
    "papermill": {
     "duration": 0.032461,
     "end_time": "2022-03-14T06:26:27.515647",
     "exception": false,
     "start_time": "2022-03-14T06:26:27.483186",
     "status": "completed"
    },
    "tags": []
   },
   "source": [
    "# Links to Understand Web Scraping in detail:\n",
    "[realpython](https://realpython.com/beautiful-soup-web-scraper-python/)<br>\n",
    "[freecodecamp](https://www.freecodecamp.org/news/web-scraping-python-tutorial-how-to-scrape-data-from-a-website/)<br>\n",
    "[edureka](https://www.edureka.co/blog/web-scraping-with-python/)<br>\n",
    "[towardsdatascience](https://towardsdatascience.com/step-by-step-tutorial-web-scraping-wikipedia-with-beautifulsoup-48d7f2dfa52d)<br>\n",
    "[pypi](https://pypi.org/project/wikipedia/)<br>\n",
    "[Alanhtlands](https://alanhylands.com/how-to-web-scrape-wikipedia-python-urllib-beautiful-soup-pandas/)"
   ]
  },
  {
   "cell_type": "markdown",
   "id": "0fb9ecf7",
   "metadata": {
    "papermill": {
     "duration": 0.03314,
     "end_time": "2022-03-14T06:26:27.581201",
     "exception": false,
     "start_time": "2022-03-14T06:26:27.548061",
     "status": "completed"
    },
    "tags": []
   },
   "source": [
    "# If you found it useful dont forget to \n",
    "\n",
    "![](https://i.kym-cdn.com/photos/images/newsfeed/000/911/007/b5a.jpg)"
   ]
  }
 ],
 "metadata": {
  "kernelspec": {
   "display_name": "Python 3",
   "language": "python",
   "name": "python3"
  },
  "language_info": {
   "codemirror_mode": {
    "name": "ipython",
    "version": 3
   },
   "file_extension": ".py",
   "mimetype": "text/x-python",
   "name": "python",
   "nbconvert_exporter": "python",
   "pygments_lexer": "ipython3",
   "version": "3.7.12"
  },
  "papermill": {
   "default_parameters": {},
   "duration": 54.175208,
   "end_time": "2022-03-14T06:26:28.324408",
   "environment_variables": {},
   "exception": null,
   "input_path": "__notebook__.ipynb",
   "output_path": "__notebook__.ipynb",
   "parameters": {},
   "start_time": "2022-03-14T06:25:34.149200",
   "version": "2.3.3"
  }
 },
 "nbformat": 4,
 "nbformat_minor": 5
}
